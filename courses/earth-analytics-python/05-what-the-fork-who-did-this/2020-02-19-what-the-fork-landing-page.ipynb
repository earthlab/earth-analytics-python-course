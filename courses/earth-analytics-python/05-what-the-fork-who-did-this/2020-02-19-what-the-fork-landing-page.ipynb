{
 "cells": [
  {
   "cell_type": "raw",
   "metadata": {},
   "source": [
    "---\n",
    "layout: single\n",
    "category: courses\n",
    "title: \"What the Fork? Test Your Code Troubleshooting Skills in Python\"\n",
    "permalink: /courses/earth-analytics-python/what-the-fork-who-did-this/\n",
    "week-landing: 4\n",
    "modified: '{:%Y-%m-%d}'.format(datetime.now())\n",
    "week: 5\n",
    "sidebar:\n",
    "  nav:\n",
    "comments: false\n",
    "author_profile: false\n",
    "course: \"earth-analytics-python\"\n",
    "module-type: 'session'\n",
    "---"
   ]
  },
  {
   "cell_type": "markdown",
   "metadata": {},
   "source": [
    "{% include toc title=\"This Week\" icon=\"file-text\" %}\n",
    "\n",
    "<div class=\"notice--info\" markdown=\"1\">\n",
    "\n",
    "## <i class=\"fa fa-ship\" aria-hidden=\"true\"></i> Welcome to Week {{ page.week }}!\n",
    "\n",
    "Welcome to week {{ page.week }} of Earth Analytics! \n",
    "\n",
    "*******\n",
    "\n",
    "\n",
    "## <i class=\"fa fa-pencil-square-o\" aria-hidden=\"true\"></i> Homework \n",
    "\n",
    "### The Homework Assignment for This Week Can Be Found on Github \n",
    "\n",
    "\n",
    "<a href=\"https://github.com/earthlab-education/ea-python-2020-05-what-the-fork-who-did-this-template\" target=\"_blank\">Click here to view the GitHub Repo with the assignment template. </a>\n",
    "\n",
    "There are no new lessons this week. If you want, review the content in the <a href=\"https://www.earthdatascience.org/courses/use-data-open-source-python/\">Intermediate Earth Analytics Textbook. </a> that we have covered so far in this course. \n",
    "</div>\n"
   ]
  }
 ],
 "metadata": {
  "celltoolbar": "Tags",
  "kernelspec": {
   "display_name": "Python 3",
   "language": "python",
   "name": "python3"
  },
  "language_info": {
   "codemirror_mode": {
    "name": "ipython",
    "version": 3
   },
   "file_extension": ".py",
   "mimetype": "text/x-python",
   "name": "python",
   "nbconvert_exporter": "python",
   "pygments_lexer": "ipython3",
   "version": "3.7.6"
  },
  "toc": {
   "base_numbering": 1,
   "nav_menu": {},
   "number_sections": true,
   "sideBar": true,
   "skip_h1_title": false,
   "title_cell": "Table of Contents",
   "title_sidebar": "Contents",
   "toc_cell": false,
   "toc_position": {},
   "toc_section_display": true,
   "toc_window_display": false
  }
 },
 "nbformat": 4,
 "nbformat_minor": 2
}
