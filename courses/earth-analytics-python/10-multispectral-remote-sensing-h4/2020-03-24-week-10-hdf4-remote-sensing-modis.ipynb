{
 "cells": [
  {
   "cell_type": "raw",
   "metadata": {
    "hideCode": false,
    "hidePrompt": false
   },
   "source": [
    "---\n",
    "layout: single\n",
    "category: courses\n",
    "title: \"Work with MODIS HDF4 Data in Open Source Python\"\n",
    "permalink: /courses/earth-analytics-python/hdf4-remote-sensing-modis/\n",
    "modified: '{:%Y-%m-%d}'.format(datetime.now())\n",
    "week-landing: 10\n",
    "week: 10\n",
    "sidebar:\n",
    "  nav:\n",
    "comments: false\n",
    "author_profile: false\n",
    "course: \"earth-analytics-python\"\n",
    "module-type: 'session'\n",
    "---\n"
   ]
  },
  {
   "cell_type": "markdown",
   "metadata": {},
   "source": [
    "{% include toc title=\"This Week\" icon=\"file-text\" %}\n",
    "\n",
    "<div class=\"notice--info\" markdown=\"1\">\n",
    "\n",
    "## <i class=\"fa fa-ship\" aria-hidden=\"true\"></i> Welcome to Week {{ page.week }}!\n",
    "\n",
    "Welcome to week {{ page.week }} of Earth Analytics! This week you will learn how to \n",
    "work with MODIS data in HDF4 (hierarchical data format). You will add to the assignment that you\n",
    "started last week by processing MODIS data to calculate vegetation burn indices which \n",
    "can be used to quantify pre vs post fire impacts on vegetation.  \n",
    "\n",
    "{% include/data_subsets/course_earth_analytics/_data-cold-springs-fire.md %}\n",
    "\n",
    "</div>\n",
    "\n",
    "\n",
    "## Materials to Review For This Week’s Assignment\n",
    "\n",
    "Please be sure to review:\n",
    "1. <a href=\"{{ site.url }}courses/use-data-open-source-python/hierarchical-data-formats-hdf/intro-to-hdf4/\" target=\"_blank\">Chapter 12 on working with hierarchical data formats </a> in Section 6 of the Intermediate Earth Data Science Textbook and \n",
    "\n",
    "### 1. The assignment below is the same as last week's assignment \n",
    "\n",
    "Note that this assignment is worth more points than a usual weekly assignment as\n",
    "it spans multiple weeks. \n",
    "\n",
    "<a href=\"https://github.com/earthlab-education/ea-python-2020-09-cold-springs-workflows-h4-template\" target=\"_blank\">Click here to view the the example GitHub Repo with the assignment template. </a>"
   ]
  }
 ],
 "metadata": {
  "celltoolbar": "Edit Metadata",
  "hide_code_all_hidden": false,
  "kernelspec": {
   "display_name": "Python 3",
   "language": "python",
   "name": "python3"
  },
  "language_info": {
   "codemirror_mode": {
    "name": "ipython",
    "version": 3
   },
   "file_extension": ".py",
   "mimetype": "text/x-python",
   "name": "python",
   "nbconvert_exporter": "python",
   "pygments_lexer": "ipython3",
   "version": "3.7.6"
  },
  "toc": {
   "base_numbering": 1,
   "nav_menu": {},
   "number_sections": true,
   "sideBar": true,
   "skip_h1_title": false,
   "title_cell": "Table of Contents",
   "title_sidebar": "Contents",
   "toc_cell": false,
   "toc_position": {},
   "toc_section_display": true,
   "toc_window_display": false
  },
  "varInspector": {
   "cols": {
    "lenName": 16,
    "lenType": 16,
    "lenVar": 40
   },
   "kernels_config": {
    "python": {
     "delete_cmd_postfix": "",
     "delete_cmd_prefix": "del ",
     "library": "var_list.py",
     "varRefreshCmd": "print(var_dic_list())"
    },
    "r": {
     "delete_cmd_postfix": ") ",
     "delete_cmd_prefix": "rm(",
     "library": "var_list.r",
     "varRefreshCmd": "cat(var_dic_list()) "
    }
   },
   "types_to_exclude": [
    "module",
    "function",
    "builtin_function_or_method",
    "instance",
    "_Feature"
   ],
   "window_display": false
  }
 },
 "nbformat": 4,
 "nbformat_minor": 2
}
