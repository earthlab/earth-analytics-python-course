{
 "cells": [
  {
   "cell_type": "raw",
   "metadata": {},
   "source": [
    "---\n",
    "layout: single\n",
    "category: courses\n",
    "title: \"Earth Analytics Python Course | Earth Lab CU Boulder\"\n",
    "authors: ['Leah Wasser']\n",
    "nav-title: \"Earth Analytics Home\"\n",
    "permalink: /courses/earth-analytics-python/\n",
    "course: \"earth-analytics-python\"\n",
    "modified: '{:%Y-%m-%d}'.format(datetime.now())\n",
    "module-type: 'overview'\n",
    "module-title: \"Earth Analytics Python Course\"\n",
    "week-landing: 0\n",
    "week: 0\n",
    "estimated-time: \"12 weeks\"\n",
    "difficulty: \"intermediate\"\n",
    "sidebar:\n",
    "  nav:\n",
    "comments: false\n",
    "author_profile: false\n",
    "overview-order: 1\n",
    "---"
   ]
  },
  {
   "cell_type": "markdown",
   "metadata": {},
   "source": [
    "\n",
    "{% include toc title=\"This course\" icon=\"file-text\" %}\n",
    "\n",
    "{% assign course_posts = site.posts | course: page.course %}\n",
    "{% assign sorted_posts = course_posts | sort:'overview-order' %}\n",
    "\n",
    "{% assign modules = sorted_posts | where:\"module-type\", 'overview' %}\n",
    "{% assign modules_course = modules | where:\"course\", page.course %}\n",
    "\n",
    "<div class=\"notice--info\" markdown=\"1\">\n",
    "\n",
    "## <i class=\"fa fa-ship\" aria-hidden=\"true\"></i> Welcome to the Earth Analytics Course!\n",
    "\n",
    "## Key course materials\n",
    "\n",
    "{% for post in modules_course %}\n",
    " * <a href=\"{{ site.url }}{{ post.permalink }}\">{{ post.title }}</a>\n",
    "{% endfor %}\n",
    "\n",
    "</div>\n",
    "<!-- an overview module specifies the overview content for the course including syllabus and any assignments  module-type: 'session' specified a week or a particular set of content surrounding a topic - eg internship seminar, etc -->\n",
    "## About the Earth Analytics Python Course\n",
    "Earth analytics is an intermediate, multidisciplinary course that addresses major\n",
    "questions in Earth science and teaches students to use the analytical tools\n",
    "necessary to undertake exploration of heterogeneous ‘big scientific data’. This\n",
    "course is designed for graduate students\n",
    "and students participating in the <a href=\"https://www.colorado.edu/earthlab/earth-data-analytics-foundations-professional-certificate\" target = \"_blank\">Earth Data Analytics Professional Certificate.</a>\n",
    "\n",
    "### Course Overview \n",
    "Throughout the course we will use computationally intensive techniques to address\n",
    "scientific questions. We will use a suite of different types of publicly available\n",
    "data including:\n",
    "\n",
    "* Satellite and airborne lidar and spectral remote sensing data,\n",
    "* Data collected using distributed in situ (on the ground) sensor networks\n",
    "* Social media data, and\n",
    "* Basic demographic data.\n",
    "\n",
    "This course is technical. We will use the `Python` scientific programming\n",
    "environment and the `Jupyter` graphical interface to work with data.\n"
   ]
  }
 ],
 "metadata": {
  "kernelspec": {
   "display_name": "Python 3",
   "language": "python",
   "name": "python3"
  },
  "language_info": {
   "codemirror_mode": {
    "name": "ipython",
    "version": 3
   },
   "file_extension": ".py",
   "mimetype": "text/x-python",
   "name": "python",
   "nbconvert_exporter": "python",
   "pygments_lexer": "ipython3",
   "version": "3.7.3"
  }
 },
 "nbformat": 4,
 "nbformat_minor": 2
}
