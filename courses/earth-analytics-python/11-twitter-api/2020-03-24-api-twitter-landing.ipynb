{
 "cells": [
  {
   "cell_type": "raw",
   "metadata": {},
   "source": [
    "---\n",
    "layout: single\n",
    "category: courses\n",
    "title: \"Programmatic Data Access\"\n",
    "permalink: /courses/earth-analytics-python/using-apis-natural-language-processing-twitter/\n",
    "modified: '{:%Y-%m-%d}'.format(datetime.now())\n",
    "week-landing: 11\n",
    "week: 11\n",
    "sidebar:\n",
    "  nav:\n",
    "comments: false\n",
    "author_profile: false\n",
    "course: \"earth-analytics-python\"\n",
    "module-type: 'session'\n",
    "redirect_from:\n",
    "  - \"/courses/earth-analytics/using-apis-natural-language-processing-twitter/\" \n",
    "---"
   ]
  },
  {
   "cell_type": "markdown",
   "metadata": {},
   "source": [
    "{% include toc title = \"This Week\" icon=\"file-text\" %}\n",
    "\n",
    "<div class=\"notice--info\" markdown=\"1\">\n",
    "\n",
    "## <i class=\"fa fa-ship\" aria-hidden=\"true\"></i> Welcome to Week {{ page.week }}!\n",
    "\n",
    "Welcome to week {{ page.week }} of Earth Analytics!  \n",
    "This week you will learn about accessing data using APIs. \n",
    "\n",
    "<!--\n",
    "To follow along with the class, please be sure to download the data below.\n",
    "Save the data in your `earth-analytics/data/week_12` directory.\n",
    "\n",
    "[<i class=\"fa fa-download\" aria-hidden=\"true\"></i> Download Week 12 Data (~80 MB)](https://ndownloader.figshare.com/files/9751453?private_link=92e248fddafa3af15b98){:data-proofer-ignore='' .btn }\n",
    "-->\n",
    "</div>\n",
    "\n",
    "## Materials to Review For This Week's Assignment\n",
    "\n",
    "\n",
    "* <a href=\"{{ site.url }}/courses/use-data-open-source-python/intro-to-apis/apis-in-python/\">Introduction to API's in Python</a>. \n",
    "* <a href=\"{{ site.url }}/courses/use-data-open-source-python/intro-to-apis/social-media-text-mining-python/\">Programatically Access Twitter Data and Natural Language Processing in Python</a>\n",
    "\n"
   ]
  }
 ],
 "metadata": {
  "anaconda-cloud": {},
  "kernelspec": {
   "display_name": "Python 3",
   "language": "python",
   "name": "python3"
  },
  "language_info": {
   "codemirror_mode": {
    "name": "ipython",
    "version": 3
   },
   "file_extension": ".py",
   "mimetype": "text/x-python",
   "name": "python",
   "nbconvert_exporter": "python",
   "pygments_lexer": "ipython3",
   "version": "3.7.6"
  },
  "toc": {
   "base_numbering": 1,
   "nav_menu": {},
   "number_sections": true,
   "sideBar": true,
   "skip_h1_title": false,
   "title_cell": "Table of Contents",
   "title_sidebar": "Contents",
   "toc_cell": false,
   "toc_position": {},
   "toc_section_display": true,
   "toc_window_display": false
  }
 },
 "nbformat": 4,
 "nbformat_minor": 2
}
