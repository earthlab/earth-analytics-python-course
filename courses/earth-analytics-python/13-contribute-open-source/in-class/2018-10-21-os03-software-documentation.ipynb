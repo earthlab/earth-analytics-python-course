{
 "cells": [
  {
   "cell_type": "raw",
   "metadata": {
    "hideCode": false,
    "hidePrompt": false
   },
   "source": [
    "---\n",
    "layout: single\n",
    "title: \"Introduction to Documenting Python Software\"\n",
    "excerpt: \"Lack of documentation will limit peoples’ use of your code. In this lesson you will learn about 2 ways to document python code using docstrings and online documentation. YOu will also learn how to improve documentation in other software packages.\"\n",
    "authors: ['Leah Wasser', 'Max Joseph', 'Lauren Herwehe']\n",
    "modified: '{:%Y-%m-%d}'.format(datetime.now())\n",
    "category: [courses]\n",
    "class-lesson: ['open-source-software-python']\n",
    "permalink: /courses/earth-analytics-python/contribute-to-open-source/software-documentation-python/\n",
    "nav-title: 'Document Python Code'\n",
    "week: 13\n",
    "course: \"earth-analytics-python\"\n",
    "sidebar:\n",
    "  nav:\n",
    "author_profile: false\n",
    "comments: true\n",
    "order: 3\n",
    "topics:\n",
    "  reproducible-science-and-programming: ['python']\n",
    "---\n"
   ]
  },
  {
   "cell_type": "markdown",
   "metadata": {},
   "source": [
    "{% include toc title=\"In This Lesson\" icon=\"file-text\" %}\n",
    "\n",
    "<div class='notice--success' markdown=\"1\">\n",
    "\n",
    "## <i class=\"fa fa-graduation-cap\" aria-hidden=\"true\"></i> Learning Objectives\n",
    "\n",
    "After completing this tutorial, you will be able to:\n",
    "\n",
    "* Be able to define what a `Python` function docstring is and the elements that should be included in a docstring.\n",
    "* Be able to describe the elements of a well documented python function.\n",
    "\n",
    "## <i class=\"fa fa-check-square-o fa-2\" aria-hidden=\"true\"></i> What You Need\n",
    "\n",
    "You will need a computer with internet access to complete this lesson.\n",
    "</div>"
   ]
  },
  {
   "cell_type": "markdown",
   "metadata": {},
   "source": [
    "## Software Documentation is Important\n",
    "\n",
    "Documentation is the core of good software development. You can write the best code and tools, but if the code is not documented, it will limit peoples’ use. In this lesson we will explore documentation as it relates to individual functions in Python. \n",
    "\n",
    "There are two core components of a well documented function when writing software.\n",
    "\n",
    "### 1. The Function Docstring \n",
    "\n",
    "The docstring is the text that you write that describes the function inputs, outputs and application. It’s also the text that you or someone else will see when you use the `help(function-name-here)` function in python. Imagine what someone needs to know to use this function. This information should be included in the function docstring. This text goes within the function right below where it is defined. Like this:\n",
    "\n",
    "```python\n",
    "def some-function(val):\n",
    "“””\n",
    "This is the docstring where you can document a function. This is what appears to describe the function when you type help(function-name) into the Python console.\n",
    "parameters\n",
    "--------------\n",
    "   Val: int\n",
    "        An integer that you wish to add 1 to.\n",
    "“””\n",
    "    newval = val+1\n",
    "    return(newval)\n",
    "```\n",
    "\n",
    "Pay close attention to the syntax applied to the function above. You will see many different conventions surrounding how to format functions. We will be using `PEP8` and the rasterio package as a guideline for syntax.\n",
    "\n",
    "### 2. Online Package Documentation\n",
    "\n",
    "Docstrings are the first step towards documenting code and proper online documentation is the second. However, good documentation can make or break good software. Proper software documentation is often on a separate website. For many `python` packages, <a href=\"https://www.readthedocs.org\" target=\"_blank\">readthedocs.org </a> is used to host documentation. ReadTheDocs is free,  easy to use and integrates easily with GitHub.\n",
    "\n",
    "Good documentation will describe the functionality of the package. It will also provide easy to understand vignettes that demonstrate how parts of the package - e.g. functions are used. The more applied the vignettes are, the better. Some developers will even provide example workflows that show you how a set of functions in the package can be used together to produce an entire workflow. \n",
    "\n",
    "As you begin to study the `earthpy` documentation, consider exploring other tools’ documentation for other examples of what documentation can look like. Some examples are below:\n",
    "\n",
    "* <a href=\"https://earthpy.readthedocs.io\" target=\"_blank\">earthpy documentation</a>\n",
    "* <a href=\"https://rasterio.readthedocs.io\" target=\"_blank\">rasterio documentation</a>\n",
    "* <a href=\"https://geopandas.readthedocs.io\" target=\"_blank\">geopandas documentation</a>\n",
    "* <a href=\"http://scikit-learn.org/stable/documentation.html\" target=\"_blank\">scikit learn docs - note this is not readthedocs documentation but still excellent!</a>"
   ]
  }
 ],
 "metadata": {
  "celltoolbar": "Edit Metadata",
  "hide_code_all_hidden": false,
  "kernelspec": {
   "display_name": "Python [default]",
   "language": "python",
   "name": "python3"
  },
  "language_info": {
   "codemirror_mode": {
    "name": "ipython",
    "version": 3
   },
   "file_extension": ".py",
   "mimetype": "text/x-python",
   "name": "python",
   "nbconvert_exporter": "python",
   "pygments_lexer": "ipython3",
   "version": "3.6.6"
  },
  "toc": {
   "toc_cell": false,
   "toc_number_sections": false,
   "toc_threshold": "2",
   "toc_window_display": false
  }
 },
 "nbformat": 4,
 "nbformat_minor": 2
}
