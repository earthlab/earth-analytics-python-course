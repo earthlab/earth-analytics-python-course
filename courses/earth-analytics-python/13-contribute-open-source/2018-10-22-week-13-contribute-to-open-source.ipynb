{
 "cells": [
  {
   "cell_type": "raw",
   "metadata": {},
   "source": [
    "---\n",
    "layout: single\n",
    "category: courses\n",
    "title: \"You Can Contribute To Open Source Software! How to Get Started in Python\"\n",
    "permalink: /courses/earth-analytics-python/contribute-to-open-source/\n",
    "modified: '{:%Y-%m-%d}'.format(datetime.now())\n",
    "week-landing: 13\n",
    "week: 13\n",
    "sidebar:\n",
    "  nav:\n",
    "comments: false\n",
    "author_profile: false\n",
    "course: \"earth-analytics-python\"\n",
    "module-type: 'session'\n",
    "---\n"
   ]
  },
  {
   "cell_type": "markdown",
   "metadata": {},
   "source": [
    "{% include toc title=\"This Week\" icon=\"file-text\" %}\n",
    "\n",
    "<div class=\"notice--info\" markdown=\"1\">\n",
    "\n",
    "## <i class=\"fa fa-ship\" aria-hidden=\"true\"></i> Welcome to Week {{ page.week }}!\n",
    "\n",
    "Welcome to week {{ page.week }} of Earth Analytics! This week you will learn how to contribute to \n",
    "open source Python packages. While you may think that contributing to open source software is \n",
    "\"out of your league\", it turns out that even the smallest contributions to things like documentation \n",
    "and cleanup can be valuable. And you have the skills - right now - to contribute.\n",
    "\n",
    "</div>\n",
    "\n",
    "Contributing to open source software not only helps the open source community. It helps you too:\n",
    "\n",
    "1. By looking at other developers' code you can learn a lot.\n",
    "2. Documenting code makes you think critically about what the code does. You will find over time that writing good documentation that helps you use someone else's software will help you better document your own workflows. \n",
    "3. You may feel shy about using git and github. Contributing to open source software on github will help you beef up your git skills!\n",
    "4. Build your online technical presense. It's true that your github profile can be a testament to *some* of your technical skills. Build your online presense early by putting your work online. \n",
    "\n",
    "## Homework for this week\n",
    "\n",
    "Your homework for this week will be entirely on Canvas. Follow the videos on canvas to hone your github skills.\n",
    "Use the links below to help you complete the homework."
   ]
  }
 ],
 "metadata": {
  "kernelspec": {
   "display_name": "Python 3",
   "language": "python",
   "name": "python3"
  },
  "language_info": {
   "codemirror_mode": {
    "name": "ipython",
    "version": 3
   },
   "file_extension": ".py",
   "mimetype": "text/x-python",
   "name": "python",
   "nbconvert_exporter": "python",
   "pygments_lexer": "ipython3",
   "version": "3.7.6"
  },
  "toc": {
   "base_numbering": 1,
   "nav_menu": {},
   "number_sections": true,
   "sideBar": true,
   "skip_h1_title": false,
   "title_cell": "Table of Contents",
   "title_sidebar": "Contents",
   "toc_cell": false,
   "toc_position": {},
   "toc_section_display": true,
   "toc_window_display": false
  }
 },
 "nbformat": 4,
 "nbformat_minor": 2
}
