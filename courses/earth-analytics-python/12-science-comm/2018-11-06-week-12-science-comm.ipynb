{
 "cells": [
  {
   "cell_type": "raw",
   "metadata": {},
   "source": [
    "---\n",
    "layout: single\n",
    "category: courses\n",
    "title: \"MidTerm Review - Science Communication\"\n",
    "permalink: /courses/earth-analytics-python/communicate-your-science/\n",
    "modified: '{:%Y-%m-%d}'.format(datetime.now())\n",
    "week-landing: 12\n",
    "week: 12\n",
    "sidebar:\n",
    "  nav:\n",
    "comments: false\n",
    "author_profile: false\n",
    "course: \"earth-analytics-python\"\n",
    "module-type: 'session'\n",
    "---\n"
   ]
  },
  {
   "cell_type": "markdown",
   "metadata": {},
   "source": [
    "{% include toc title=\"This Week\" icon=\"file-text\" %}\n",
    "\n",
    "<div class=\"notice--info\" markdown=\"1\">\n",
    "\n",
    "## <i class=\"fa fa-ship\" aria-hidden=\"true\"></i> Welcome to Week {{ page.week }}!\n",
    "\n",
    "Welcome to week {{ page.week }} of Earth Analytics! In this week you will learn\n",
    "approaches to communicating your science to people who are not in the same discipline\n",
    "as you are.\n",
    "\n",
    "<a class=\"btn btn--success btn--x-large\" href=\"{{ site.url }}/slide-shows/5-present-your-science-presentation/\" target= \"_blank\"> <i class=\"fa fa-youtube-play\" aria-hidden=\"true\"></i>\n",
    "View Slideshow: Present your science</a>\n",
    "\n",
    "</div>\n",
    "\n",
    "\n",
    "## Homework for this Week\n",
    "\n",
    "Continue working on your final project for this course!\n"
   ]
  },
  {
   "cell_type": "code",
   "execution_count": null,
   "metadata": {},
   "outputs": [],
   "source": []
  }
 ],
 "metadata": {
  "celltoolbar": "Edit Metadata",
  "kernelspec": {
   "display_name": "Python 3",
   "language": "python",
   "name": "python3"
  },
  "language_info": {
   "codemirror_mode": {
    "name": "ipython",
    "version": 3
   },
   "file_extension": ".py",
   "mimetype": "text/x-python",
   "name": "python",
   "nbconvert_exporter": "python",
   "pygments_lexer": "ipython3",
   "version": "3.7.6"
  },
  "toc": {
   "base_numbering": 1,
   "nav_menu": {},
   "number_sections": true,
   "sideBar": true,
   "skip_h1_title": false,
   "title_cell": "Table of Contents",
   "title_sidebar": "Contents",
   "toc_cell": false,
   "toc_position": {},
   "toc_section_display": true,
   "toc_window_display": false
  }
 },
 "nbformat": 4,
 "nbformat_minor": 2
}
