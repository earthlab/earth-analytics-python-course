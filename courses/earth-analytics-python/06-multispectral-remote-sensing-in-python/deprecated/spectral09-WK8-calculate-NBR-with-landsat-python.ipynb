{
 "cells": [
  {
   "cell_type": "raw",
   "metadata": {},
   "source": [
    "---\n",
    "layout: single\n",
    "title: \"Calculate and plot difference normalized burn ratio (dNBR) from Landsat remote sensing data in R\"\n",
    "excerpt: \"In this lesson we review how to calculate difference normalized burn ratio using pre and post fire NBR rasters in R. We finally will classify the dNBR raster.\"\n",
    "authors: ['Leah Wasser','Megan Cattau']\n",
    "modified: '{:%Y-%m-%d}'.format(datetime.now())\n",
    "category: [courses]\n",
    "class-lesson: ['spectral-data-fire-r']\n",
    "permalink: /courses/earth-analytics-python/week-6/calculate-dNBR-R-Landsat/\n",
    "nav-title: 'dNBR with Landsat'\n",
    "week: 6\n",
    "course: \"earth-analytics-python\"\n",
    "sidebar:\n",
    "  nav:\n",
    "author_profile: false\n",
    "comments: true\n",
    "order: 6\n",
    "topics:\n",
    "  remote-sensing: ['landsat', 'modis']\n",
    "  earth-science: ['fire']\n",
    "  reproducible-science-and-programming:\n",
    "  spatial-data-and-gis: ['raster-data']\n",
    "lang-lib:\n",
    "  r: []\n",
    "---\n"
   ]
  },
  {
   "cell_type": "markdown",
   "metadata": {},
   "source": [
    "\n",
    "\n",
    "\n",
    "\n",
    "{% include toc title=\"In This Lesson\" icon=\"file-text\" %}\n",
    "\n",
    "\n",
    "\n",
    "<div class='notice--success' markdown=\"1\">\n",
    "\n",
    "\n",
    "\n",
    "## <i class=\"fa fa-graduation-cap\" aria-hidden=\"true\"></i> Learning Objectives\n",
    "\n",
    "\n",
    "\n",
    "After completing this tutorial, you will be able to:\n",
    "\n",
    "\n",
    "\n",
    "* Calculate `dNBR` in `R`\n",
    "\n",
    "* Describe how the `dNBR` index is used to quantify fire severity.\n",
    "\n",
    "\n",
    "\n",
    "## <i class=\"fa fa-check-square-o fa-2\" aria-hidden=\"true\"></i> What You Need\n",
    "\n",
    "\n",
    "\n",
    "You will need a computer with internet access to complete this lesson and the\n",
    "\n",
    "data for week 6 of the course.\n",
    "\n",
    "\n",
    "\n",
    "{% include/data_subsets/course_earth_analytics/_data-cold-springs-fire.md %}\n",
    "\n",
    "</div>\n",
    "\n",
    "\n",
    "\n",
    "As mentioned in the previous lesson, we can use NBR to map the extent and severity of a fire.\n",
    "\n",
    "Let's explore creating NBR using Landsat data.\n",
    "\n",
    "\n",
    "\n",
    "## Calculate dNBR using Landsat data\n",
    "\n",
    "\n",
    "\n",
    "First, let's setup our spatial packages.\n",
    "\n",
    "\n"
   ]
  },
  {
   "cell_type": "code",
   "execution_count": 104,
   "metadata": {},
   "outputs": [],
   "source": [
    "import rasterio as rio\n",
    "import geopandas as gpd\n",
    "import earthpy as et\n",
    "import os\n",
    "os.chdir(os.path.join(et.io.HOME, 'earth-analytics'))\n",
    "import matplotlib.pyplot as plt\n",
    "from rasterio.plot import show\n",
    "from glob import glob\n",
    "import numpy as np\n",
    "plt.ion()\n",
    "\n",
    "from scipy.misc import bytescale"
   ]
  },
  {
   "cell_type": "markdown",
   "metadata": {},
   "source": [
    "\n",
    "\n",
    "Next, we open up our landsat data and create a spatial raster stack.\n",
    "\n",
    "\n",
    "\n",
    "\n"
   ]
  },
  {
   "cell_type": "code",
   "execution_count": 105,
   "metadata": {},
   "outputs": [],
   "source": [
    "all_landsat_bands_pre_cloud = glob(\"data/week_07/landsat/LC80340322016189-SC20170128091153/crop/*band*.tif\")\n",
    "all_landsat_bands_pre_cloud = [rio.open(ifile) for ifile in all_landsat_bands_pre_cloud]\n",
    "all_landsat_bands_pre_data_cloud = np.array([ifile.read()[0] for ifile in all_landsat_bands_pre_cloud])\n",
    "#all_landsat_bands_pre_data_cloud[1]"
   ]
  },
  {
   "cell_type": "code",
   "execution_count": 106,
   "metadata": {},
   "outputs": [
    {
     "data": {
      "text/plain": [
       "{'affine': Affine(30.0, 0.0, 455655.0,\n",
       "       0.0, -30.0, 4428465.0),\n",
       " 'compress': 'lzw',\n",
       " 'count': 1,\n",
       " 'crs': CRS({'init': 'epsg:32613'}),\n",
       " 'driver': 'GTiff',\n",
       " 'dtype': 'int16',\n",
       " 'height': 177,\n",
       " 'interleave': 'band',\n",
       " 'nodata': -32768.0,\n",
       " 'tiled': False,\n",
       " 'transform': (455655.0, 30.0, 0.0, 4428465.0, 0.0, -30.0),\n",
       " 'width': 246}"
      ]
     },
     "execution_count": 106,
     "metadata": {},
     "output_type": "execute_result"
    }
   ],
   "source": [
    "all_landsat_bands_pre_cloud[1].profile\n",
    "# unsigned int -- all positive\n",
    "# in can be negative"
   ]
  },
  {
   "cell_type": "code",
   "execution_count": 107,
   "metadata": {},
   "outputs": [
    {
     "name": "stdout",
     "output_type": "stream",
     "text": [
      "(-32768.0,)\n"
     ]
    }
   ],
   "source": [
    "print(all_landsat_bands_pre_cloud[1].nodatavals)"
   ]
  },
  {
   "cell_type": "markdown",
   "metadata": {},
   "source": [
    "\n",
    "\n",
    "Next we calculate dNBR using the following steps:\n",
    "\n",
    "\n",
    "\n",
    "1. Open up pre-fire data and calculate *NBR*\n",
    "\n",
    "2. Open up the post-fire data and calculate *NBR*\n",
    "\n",
    "3. Calculate **dNBR** (difference NBR) by subtracting post-fire NBR from pre-fire NBR.\n",
    "\n",
    "4. Classify the dNBR raster using the classification table below.\n",
    "\n",
    "\n",
    "\n",
    ". Note the code to do this is hidden. You will need to figure\n",
    "\n",
    "out what bands are required to calculate NBR using Landsat.\n",
    "\n",
    "\n"
   ]
  },
  {
   "cell_type": "code",
   "execution_count": 108,
   "metadata": {},
   "outputs": [
    {
     "name": "stderr",
     "output_type": "stream",
     "text": [
      "/Users/lewa8222/anaconda/envs/earth-analytics-python/lib/python3.6/site-packages/ipykernel_launcher.py:1: RuntimeWarning: invalid value encountered in true_divide\n",
      "  \"\"\"Entry point for launching an IPython kernel.\n"
     ]
    }
   ],
   "source": [
    "landsat_nbr_pre_cloud = ((all_landsat_bands_pre_data_cloud[4] - all_landsat_bands_pre_data_cloud[6]) / (all_landsat_bands_pre_data_cloud[4] + all_landsat_bands_pre_data_cloud[6]))\n",
    "#landsat_nbr_pre_cloud[np.isnan(landsat_nbr_pre_cloud)] = 0\n"
   ]
  },
  {
   "cell_type": "code",
   "execution_count": 109,
   "metadata": {},
   "outputs": [
    {
     "data": {
      "image/png": "[encoded data removed]",
      "text/plain": [
       "<matplotlib.figure.Figure at 0x11e7d3710>"
      ]
     },
     "metadata": {},
     "output_type": "display_data"
    }
   ],
   "source": [
    "fig, ax = plt.subplots()\n",
    "ax.imshow(landsat_nbr_pre_cloud, cmap='Greys')\n",
    "ax.set(title=\"Landsat derived Normalized Burn Index (NBR)\\n Pre-fire - you will need to figure out the date using the Julian Day\")\n",
    "ax.set_axis_off()"
   ]
  },
  {
   "cell_type": "markdown",
   "metadata": {},
   "source": [
    "These data have clouds. let's use the cloud free data"
   ]
  },
  {
   "cell_type": "code",
   "execution_count": 110,
   "metadata": {},
   "outputs": [
    {
     "ename": "ValueError",
     "evalue": "max must be larger than min in range parameter.",
     "output_type": "error",
     "traceback": [
      "\u001b[0;31m---------------------------------------------------------------------------\u001b[0m",
      "\u001b[0;31mValueError\u001b[0m                                Traceback (most recent call last)",
      "\u001b[0;32m<ipython-input-110-5ad64e036b7b>\u001b[0m in \u001b[0;36m<module>\u001b[0;34m()\u001b[0m\n\u001b[1;32m      1\u001b[0m \u001b[0;31m# create histogram of nbr data -- why is this crazy ??\u001b[0m\u001b[0;34m\u001b[0m\u001b[0;34m\u001b[0m\u001b[0m\n\u001b[1;32m      2\u001b[0m \u001b[0mfig\u001b[0m\u001b[0;34m,\u001b[0m \u001b[0max\u001b[0m \u001b[0;34m=\u001b[0m \u001b[0mplt\u001b[0m\u001b[0;34m.\u001b[0m\u001b[0msubplots\u001b[0m\u001b[0;34m(\u001b[0m\u001b[0;34m)\u001b[0m\u001b[0;34m\u001b[0m\u001b[0m\n\u001b[0;32m----> 3\u001b[0;31m \u001b[0max\u001b[0m\u001b[0;34m.\u001b[0m\u001b[0mhist\u001b[0m\u001b[0;34m(\u001b[0m\u001b[0mlandsat_nbr_pre_cloud\u001b[0m\u001b[0;34m.\u001b[0m\u001b[0mravel\u001b[0m\u001b[0;34m(\u001b[0m\u001b[0;34m)\u001b[0m\u001b[0;34m,\u001b[0m \u001b[0mbins\u001b[0m\u001b[0;34m=\u001b[0m\u001b[0;36m20\u001b[0m\u001b[0;34m,\u001b[0m \u001b[0mcolor\u001b[0m\u001b[0;34m=\u001b[0m\u001b[0;34m\"purple\"\u001b[0m\u001b[0;34m)\u001b[0m\u001b[0;34m\u001b[0m\u001b[0m\n\u001b[0m\u001b[1;32m      4\u001b[0m \u001b[0max\u001b[0m\u001b[0;34m.\u001b[0m\u001b[0mset_title\u001b[0m\u001b[0;34m(\u001b[0m\u001b[0;34m\"Landsat derived Normalized Burn Index (NBR)\\n Pre-fire - you will need to figure out the date using the Julian Day\"\u001b[0m\u001b[0;34m)\u001b[0m\u001b[0;34m;\u001b[0m\u001b[0;34m\u001b[0m\u001b[0m\n\u001b[1;32m      5\u001b[0m \u001b[0;31m#ax.set_axis_off()\u001b[0m\u001b[0;34m\u001b[0m\u001b[0;34m\u001b[0m\u001b[0m\n",
      "\u001b[0;32m~/anaconda/envs/earth-analytics-python/lib/python3.6/site-packages/matplotlib/__init__.py\u001b[0m in \u001b[0;36minner\u001b[0;34m(ax, *args, **kwargs)\u001b[0m\n\u001b[1;32m   1708\u001b[0m                     warnings.warn(msg % (label_namer, func.__name__),\n\u001b[1;32m   1709\u001b[0m                                   RuntimeWarning, stacklevel=2)\n\u001b[0;32m-> 1710\u001b[0;31m             \u001b[0;32mreturn\u001b[0m \u001b[0mfunc\u001b[0m\u001b[0;34m(\u001b[0m\u001b[0max\u001b[0m\u001b[0;34m,\u001b[0m \u001b[0;34m*\u001b[0m\u001b[0margs\u001b[0m\u001b[0;34m,\u001b[0m \u001b[0;34m**\u001b[0m\u001b[0mkwargs\u001b[0m\u001b[0;34m)\u001b[0m\u001b[0;34m\u001b[0m\u001b[0m\n\u001b[0m\u001b[1;32m   1711\u001b[0m         \u001b[0mpre_doc\u001b[0m \u001b[0;34m=\u001b[0m \u001b[0minner\u001b[0m\u001b[0;34m.\u001b[0m\u001b[0m__doc__\u001b[0m\u001b[0;34m\u001b[0m\u001b[0m\n\u001b[1;32m   1712\u001b[0m         \u001b[0;32mif\u001b[0m \u001b[0mpre_doc\u001b[0m \u001b[0;32mis\u001b[0m \u001b[0;32mNone\u001b[0m\u001b[0;34m:\u001b[0m\u001b[0;34m\u001b[0m\u001b[0m\n",
      "\u001b[0;32m~/anaconda/envs/earth-analytics-python/lib/python3.6/site-packages/matplotlib/axes/_axes.py\u001b[0m in \u001b[0;36mhist\u001b[0;34m(***failed resolving arguments***)\u001b[0m\n\u001b[1;32m   6205\u001b[0m             \u001b[0;31m# this will automatically overwrite bins,\u001b[0m\u001b[0;34m\u001b[0m\u001b[0;34m\u001b[0m\u001b[0m\n\u001b[1;32m   6206\u001b[0m             \u001b[0;31m# so that each histogram uses the same bins\u001b[0m\u001b[0;34m\u001b[0m\u001b[0;34m\u001b[0m\u001b[0m\n\u001b[0;32m-> 6207\u001b[0;31m             \u001b[0mm\u001b[0m\u001b[0;34m,\u001b[0m \u001b[0mbins\u001b[0m \u001b[0;34m=\u001b[0m \u001b[0mnp\u001b[0m\u001b[0;34m.\u001b[0m\u001b[0mhistogram\u001b[0m\u001b[0;34m(\u001b[0m\u001b[0mx\u001b[0m\u001b[0;34m[\u001b[0m\u001b[0mi\u001b[0m\u001b[0;34m]\u001b[0m\u001b[0;34m,\u001b[0m \u001b[0mbins\u001b[0m\u001b[0;34m,\u001b[0m \u001b[0mweights\u001b[0m\u001b[0;34m=\u001b[0m\u001b[0mw\u001b[0m\u001b[0;34m[\u001b[0m\u001b[0mi\u001b[0m\u001b[0;34m]\u001b[0m\u001b[0;34m,\u001b[0m \u001b[0;34m**\u001b[0m\u001b[0mhist_kwargs\u001b[0m\u001b[0;34m)\u001b[0m\u001b[0;34m\u001b[0m\u001b[0m\n\u001b[0m\u001b[1;32m   6208\u001b[0m             \u001b[0mm\u001b[0m \u001b[0;34m=\u001b[0m \u001b[0mm\u001b[0m\u001b[0;34m.\u001b[0m\u001b[0mastype\u001b[0m\u001b[0;34m(\u001b[0m\u001b[0mfloat\u001b[0m\u001b[0;34m)\u001b[0m  \u001b[0;31m# causes problems later if it's an int\u001b[0m\u001b[0;34m\u001b[0m\u001b[0m\n\u001b[1;32m   6209\u001b[0m             \u001b[0;32mif\u001b[0m \u001b[0mmlast\u001b[0m \u001b[0;32mis\u001b[0m \u001b[0;32mNone\u001b[0m\u001b[0;34m:\u001b[0m\u001b[0;34m\u001b[0m\u001b[0m\n",
      "\u001b[0;32m~/anaconda/envs/earth-analytics-python/lib/python3.6/site-packages/numpy/lib/function_base.py\u001b[0m in \u001b[0;36mhistogram\u001b[0;34m(a, bins, range, normed, weights, density)\u001b[0m\n\u001b[1;32m    665\u001b[0m     \u001b[0;32mif\u001b[0m \u001b[0mmn\u001b[0m \u001b[0;34m>\u001b[0m \u001b[0mmx\u001b[0m\u001b[0;34m:\u001b[0m\u001b[0;34m\u001b[0m\u001b[0m\n\u001b[1;32m    666\u001b[0m         raise ValueError(\n\u001b[0;32m--> 667\u001b[0;31m             'max must be larger than min in range parameter.')\n\u001b[0m\u001b[1;32m    668\u001b[0m     \u001b[0;32mif\u001b[0m \u001b[0;32mnot\u001b[0m \u001b[0mnp\u001b[0m\u001b[0;34m.\u001b[0m\u001b[0mall\u001b[0m\u001b[0;34m(\u001b[0m\u001b[0mnp\u001b[0m\u001b[0;34m.\u001b[0m\u001b[0misfinite\u001b[0m\u001b[0;34m(\u001b[0m\u001b[0;34m[\u001b[0m\u001b[0mmn\u001b[0m\u001b[0;34m,\u001b[0m \u001b[0mmx\u001b[0m\u001b[0;34m]\u001b[0m\u001b[0;34m)\u001b[0m\u001b[0;34m)\u001b[0m\u001b[0;34m:\u001b[0m\u001b[0;34m\u001b[0m\u001b[0m\n\u001b[1;32m    669\u001b[0m         raise ValueError(\n",
      "\u001b[0;31mValueError\u001b[0m: max must be larger than min in range parameter."
     ]
    },
    {
     "data": {
      "image/png": "[encoded data removed]",
      "text/plain": [
       "<matplotlib.figure.Figure at 0x12690e898>"
      ]
     },
     "metadata": {},
     "output_type": "display_data"
    }
   ],
   "source": [
    "# create histogram of nbr data -- why is this crazy ??\n",
    "fig, ax = plt.subplots()\n",
    "ax.hist(landsat_nbr_pre_cloud.ravel(), bins=20, color=\"purple\")\n",
    "ax.set_title(\"Landsat derived Normalized Burn Index (NBR)\\n Pre-fire - you will need to figure out the date using the Julian Day\");\n",
    "#ax.set_axis_off()"
   ]
  },
  {
   "cell_type": "code",
   "execution_count": null,
   "metadata": {},
   "outputs": [],
   "source": [
    "# trying here to grab the bounds of this raster to use to clip the other raster\n",
    "# how can i do that?\n",
    "# do i need to turn it into a shapefile?\n",
    "landsat_band5 = all_landsat_bands_pre_cloud[4]\n",
    "landsat_band5.bounds\n"
   ]
  },
  {
   "cell_type": "markdown",
   "metadata": {},
   "source": [
    "Here, we import another landsat scene. However this scene is not cropped. This means that is has many edge NaN valued pixels in it. i think this is causing issues. "
   ]
  },
  {
   "cell_type": "markdown",
   "metadata": {},
   "source": [
    "\n",
    "\n",
    "\n",
    "\n",
    "You can export the NBR raster if you want using `writeRaster()`.\n",
    "\n",
    "\n"
   ]
  },
  {
   "cell_type": "code",
   "execution_count": null,
   "metadata": {},
   "outputs": [],
   "source": [
    "with rio.open('data/week_06/outputs/landsat_nbr.tif', 'w', driver='GTiff', dtype='int32',\n",
    "              width=landsat_nbr_pre.shape[1], height=landsat_nbr_pre.shape[0], count=1) as dst:\n",
    "    dst.write(landsat_nbr_pre.astype(np.int32), 1)"
   ]
  },
  {
   "cell_type": "code",
   "execution_count": null,
   "metadata": {},
   "outputs": [],
   "source": [
    "# ```{r export-rasters, eval=FALSE }\n",
    "\n",
    "# writeRaster(x = landsat_nbr_pre,\n",
    "\n",
    "#               filename=\"data/week6/outputs/landsat_nbr\",\n",
    "\n",
    "#               format = \"GTiff\", # save as a tif\n",
    "\n",
    "#               datatype='INT2S', # save as a INTEGER rather than a float\n",
    "\n",
    "#               overwrite = T)\n",
    "\n",
    "# ```\n"
   ]
  },
  {
   "cell_type": "markdown",
   "metadata": {},
   "source": [
    "\n",
    "\n",
    "\n",
    "\n",
    "Next, we can open the post-fire landsat data to calculate post-fire NBR.\n",
    "\n",
    "\n"
   ]
  },
  {
   "cell_type": "code",
   "execution_count": null,
   "metadata": {},
   "outputs": [],
   "source": [
    "all_landsat_bands_post = glob(\"data/week_07/landsat/LC80340322016205-SC20170127160728/crop/*band*.tif\")\n",
    "all_landsat_bands_post = [rio.open(ifile) for ifile in all_landsat_bands_post]\n",
    "all_landsat_bands_post_data = np.array([ifile.read()[0] for ifile in all_landsat_bands_post])"
   ]
  },
  {
   "cell_type": "code",
   "execution_count": null,
   "metadata": {},
   "outputs": [],
   "source": [
    "# ```{r create-landsat-stack-post }\n",
    "\n",
    "# all_landsat_bands_post <- list.files(\"data/week6/Landsat/LC80340322016205-SC20170127160728/crop\",\n",
    "\n",
    "#            pattern=glob2rx(\"*band*.tif$\"),\n",
    "\n",
    "#            full.names = T) # use the dollar sign at the end to get all files that END WITH\n",
    "\n",
    "# all_landsat_bands_post\n",
    "\n",
    "\n",
    "\n",
    "# # stack the data\n",
    "\n",
    "# landsat_stack_post <- stack(all_landsat_bands_post)\n",
    "\n",
    "# ```\n"
   ]
  },
  {
   "cell_type": "markdown",
   "metadata": {},
   "source": [
    "\n",
    "\n",
    "Then we calculate NBR on the post data - note the code here is purposefully hidden.\n",
    "\n",
    "You need to figure out what bands to use to perform the math!\n",
    "\n",
    "\n"
   ]
  },
  {
   "cell_type": "code",
   "execution_count": null,
   "metadata": {},
   "outputs": [],
   "source": [
    "landsat_nbr_post = ((all_landsat_bands_post_data[4] - all_landsat_bands_post_data[6]) / (all_landsat_bands_post_data[4] + all_landsat_bands_post_data[6]))\n",
    "landsat_nbr_post[np.isnan(landsat_nbr_post)] = 0"
   ]
  },
  {
   "cell_type": "code",
   "execution_count": null,
   "metadata": {},
   "outputs": [],
   "source": [
    "fig, ax = plt.subplots()\n",
    "ax.imshow(landsat_nbr_post, cmap='Greys')\n",
    "ax.set(title=\"Landsat derived Normalized Burn Index (NBR)\\n Post Fire\")\n",
    "ax.set_axis_off()"
   ]
  },
  {
   "cell_type": "code",
   "execution_count": null,
   "metadata": {},
   "outputs": [],
   "source": [
    "# ```{r calculate-nbr-post, echo=FALSE, fig.cap=\"landsat derived NBR post fire\", fig.width=7, fig.height=5}\n",
    "\n",
    "# # Landsat 8 requires bands 7 and 5\n",
    "\n",
    "# landsat_nbr_post <- ((landsat_stack_post[[5]] - landsat_stack_post[[7]]) / (landsat_stack_post[[5]] + landsat_stack_post[[7]]))\n",
    "\n",
    "\n",
    "\n",
    "# plot(landsat_nbr_post,\n",
    "\n",
    "#      main=\"Landsat derived Normalized Burn Index (NBR)\\n Post Fire\",\n",
    "\n",
    "#      axes=F,\n",
    "\n",
    "#      box=F)\n",
    "\n",
    "# ```\n"
   ]
  },
  {
   "cell_type": "markdown",
   "metadata": {},
   "source": [
    "\n",
    "\n",
    "Finally, calculate the DIFFERENCE between the pre and post NBR!!\n",
    "\n",
    "\n"
   ]
  },
  {
   "cell_type": "code",
   "execution_count": null,
   "metadata": {},
   "outputs": [],
   "source": [
    "landsat_nbr_diff = landsat_nbr_pre - landsat_nbr_post\n",
    "fig, ax = plt.subplots()\n",
    "ax.imshow(landsat_nbr_diff, cmap='Greys')\n",
    "ax.set(title=\"Difference NBR map \\n Pre minus post Cold Springs fire\")\n",
    "ax.set_axis_off()"
   ]
  },
  {
   "cell_type": "code",
   "execution_count": null,
   "metadata": {},
   "outputs": [],
   "source": [
    "# ```{r, fig.cap=\"Difference NBR map\", fig.width=7, fig.height=5}\n",
    "\n",
    "# # calculate difference\n",
    "\n",
    "# landsat_nbr_diff <- landsat_nbr_pre - landsat_nbr_post\n",
    "\n",
    "# plot(landsat_nbr_diff,\n",
    "\n",
    "#      main=\"Difference NBR map \\n Pre minus post Cold Springs fire\",\n",
    "\n",
    "#      axes=F, box=F)\n",
    "\n",
    "# ```\n"
   ]
  },
  {
   "cell_type": "markdown",
   "metadata": {},
   "source": [
    "\n",
    "\n",
    "When you have calculated dNBR or the difference in NBR pre minus post fire,\n",
    "\n",
    "classify the output raster using the `classify()` function and the classes below.\n",
    "\n",
    "\n",
    "\n",
    "| SEVERITY LEVEL  | | dNBR RANGE |\n",
    "\n",
    "|------------------------------|\n",
    "\n",
    "| Enhanced Regrowth | | > -.1 |\n",
    "\n",
    "| Unburned       |  | -.1 to +.1 |\n",
    "\n",
    "| Low Severity     | | +.1 to +.27 |\n",
    "\n",
    "| Moderate Severity  | | +.27 to +.66 |\n",
    "\n",
    "| High Severity     |  |  > +1.3 |\n",
    "\n",
    "\n",
    "\n",
    "NOTE: your min an max values for NBR may be slightly different from the table\n",
    "\n",
    "shown above! If you have a smaller min value (< -700) then adjust your first class\n",
    "\n",
    "to that smallest number. If you have a largest max value (>1300) then adjust\n",
    "\n",
    "your last class to that largest value in your data.\n",
    "\n",
    "\n",
    "\n",
    "Alternatively, you can use the `Inf` to specify the smallest `-Inf` and largest\n",
    "\n",
    "`Inf` values.\n",
    "\n",
    "\n",
    "\n",
    "\n"
   ]
  },
  {
   "cell_type": "code",
   "execution_count": null,
   "metadata": {},
   "outputs": [],
   "source": [
    "nbr_classified = np.digitize(landsat_nbr_diff, [-.1, .1, .27, .66, np.inf])\n",
    "the_colors = [\"seagreen4\", \"seagreen1\", \"ivory1\", \"palevioletred1\", \"palevioletred4\"]"
   ]
  },
  {
   "cell_type": "code",
   "execution_count": null,
   "metadata": {},
   "outputs": [],
   "source": [
    "# ```{r classify-output, echo=F}\n",
    "\n",
    "# # create classification matrix\n",
    "\n",
    "# reclass <- c(-Inf, -.1, 1,\n",
    "\n",
    "#              -.1, .1, 2,\n",
    "\n",
    "#              .1, .27, 3,\n",
    "\n",
    "#              .27, .66, 4,\n",
    "\n",
    "#              .66, Inf , 5)\n",
    "\n",
    "# # reshape the object into a matrix with columns and rows\n",
    "\n",
    "# reclass_m <- matrix(reclass,\n",
    "\n",
    "#                 ncol=3,\n",
    "\n",
    "#                 byrow=TRUE)\n",
    "\n",
    "\n",
    "\n",
    "# nbr_classified <- reclassify(landsat_nbr_diff,\n",
    "\n",
    "#                      reclass_m)\n",
    "\n",
    "# the_colors = c(\"seagreen4\", \"seagreen1\", \"ivory1\", \"palevioletred1\", \"palevioletred4\")\n",
    "\n",
    "# ```\n"
   ]
  },
  {
   "cell_type": "markdown",
   "metadata": {},
   "source": [
    "\n",
    "\n",
    "\n",
    "\n",
    "Your classified map should look something like:\n",
    "\n",
    "\n"
   ]
  },
  {
   "cell_type": "code",
   "execution_count": null,
   "metadata": {},
   "outputs": [],
   "source": [
    "from matplotlib.colors import LinearSegmentedColormap"
   ]
  },
  {
   "cell_type": "code",
   "execution_count": null,
   "metadata": {},
   "outputs": [],
   "source": [
    "import seaborn as sns"
   ]
  },
  {
   "cell_type": "code",
   "execution_count": null,
   "metadata": {},
   "outputs": [],
   "source": [
    "categories = [\"Enhanced Regrowth\", \"Unburned\", \"Low Severity\", \"Moderate Severity\", \"High Severity\"]"
   ]
  },
  {
   "cell_type": "code",
   "execution_count": null,
   "metadata": {},
   "outputs": [],
   "source": [
    "landsat_nbr_diff = landsat_nbr_pre - landsat_nbr_post\n",
    "fig, ax = plt.subplots()\n",
    "im = ax.imshow(nbr_classified, cmap='RdYlGn')\n",
    "ax.set(title=\"Landsat NBR - Cold Spring fire site \\n Add date of the data here\")\n",
    "ax.set_axis_off()\n",
    "cbar = fig.colorbar(im)\n",
    "cbar.set_ticks(range(5))\n",
    "cbar.set_ticklabels(categories[::-1])"
   ]
  },
  {
   "cell_type": "code",
   "execution_count": null,
   "metadata": {},
   "outputs": [],
   "source": [
    "# ```{r classify-output-plot, echo=FALSE, fig.cap=\"classified NBR output\", fig.width=7, fig.height=5}\n",
    "\n",
    "# # mar bottom, left, top and right\n",
    "\n",
    "# par(xpd = F, mar=c(0,0,2,5))\n",
    "\n",
    "# plot(nbr_classified,\n",
    "\n",
    "#      col=the_colors,\n",
    "\n",
    "#      legend=F,\n",
    "\n",
    "#      axes=F,\n",
    "\n",
    "#      box=F,\n",
    "\n",
    "#      main=\"Landsat NBR - Cold Spring fire site \\n Add date of the data here\")\n",
    "\n",
    "# par(xpd = TRUE)\n",
    "\n",
    "# legend(nbr_classified@extent@xmax-100, nbr_classified@extent@ymax,\n",
    "\n",
    "#        c(\"Enhanced Regrowth\", \"Unburned\", \"Low Severity\", \"Moderate Severity\", \"High Severity\"),\n",
    "\n",
    "#        fill=the_colors,\n",
    "\n",
    "#        cex=.9,\n",
    "\n",
    "#        bty=\"n\")\n",
    "\n",
    "\n",
    "\n",
    "# ```\n"
   ]
  },
  {
   "cell_type": "markdown",
   "metadata": {},
   "source": [
    "\n",
    "\n",
    "## Compare to fire boundary\n",
    "\n",
    "\n",
    "\n",
    "As an example to see how our fire boundary relates to the boundary that we've\n",
    "\n",
    "identified using MODIS data, we can create a map with both layers. I'm using\n",
    "\n",
    "the shapefile in the folder:\n",
    "\n",
    "\n",
    "\n",
    "`data/week6/vector_layers/fire-boundary-geomac/co_cold_springs_20160711_2200_dd83.shp`\n",
    "\n",
    "\n",
    "\n",
    "Add fire boundary to map.\n",
    "\n",
    "\n"
   ]
  },
  {
   "cell_type": "code",
   "execution_count": null,
   "metadata": {},
   "outputs": [],
   "source": [
    "fire_boundary = gpd.read_file(\"data/week_06/vector_layers/fire-boundary-geomac/co_cold_springs_20160711_2200_dd83.shp\")\n",
    "fire_boundary = fire_boundary.to_crs(all_landsat_bands_pre[0].crs)\n",
    "bounds = all_landsat_bands_pre[0].bounds"
   ]
  },
  {
   "cell_type": "code",
   "execution_count": null,
   "metadata": {},
   "outputs": [],
   "source": [
    "landsat_nbr_diff = landsat_nbr_pre - landsat_nbr_post\n",
    "fig, ax = plt.subplots()\n",
    "im = ax.imshow(nbr_classified, cmap='RdYlGn', extent=[bounds.left, bounds.right, bounds.bottom, bounds.top])\n",
    "ax.set(title=\"Landsat NBR - Cold Spring fire site \\n Add date of the data here\")\n",
    "ax.set_axis_off()\n",
    "cbar = fig.colorbar(im)\n",
    "cbar.set_ticks(range(5))\n",
    "cbar.set_ticklabels(categories[::-1])\n",
    "fire_boundary.plot(ax=ax, alpha=.4)\n"
   ]
  },
  {
   "cell_type": "code",
   "execution_count": null,
   "metadata": {},
   "outputs": [],
   "source": [
    "# ```{r classify-output-plot2, echo=FALSE, fig.cap=\"classified NBR output\", results='hide', fig.width=7, fig.height=5}\n",
    "\n",
    "# fire_boundary <- readOGR(\"data/week6/vector_layers/fire-boundary-geomac/co_cold_springs_20160711_2200_dd83.shp\")\n",
    "\n",
    "# # reproject shapefile\n",
    "\n",
    "# fire_boundary_utm <- spTransform(fire_boundary, crs(nbr_classified))\n",
    "\n",
    "\n",
    "\n",
    "\n",
    "\n",
    "# # mar bottom, left, top and right\n",
    "\n",
    "# par(mar=c(0,0,2,5))\n",
    "\n",
    "# plot(nbr_classified,\n",
    "\n",
    "#      col=the_colors,\n",
    "\n",
    "#      legend=F,\n",
    "\n",
    "#      axes=F,\n",
    "\n",
    "#      box=F,\n",
    "\n",
    "#      main=\"Landsat NBR - Cold Spring fire site \\n Add date of the data here\")\n",
    "\n",
    "# plot(fire_boundary_utm, add=T,\n",
    "\n",
    "#      lwd=5)\n",
    "\n",
    "# legend(nbr_classified@extent@xmax-100, nbr_classified@extent@ymax,\n",
    "\n",
    "#        c(\"Enhanced Regrowth\", \"Unburned\", \"Low Severity\", \"Moderate Severity\", \"High Severity\", \"Fire boundary\"),\n",
    "\n",
    "#        col= \"black\",\n",
    "\n",
    "#        pt.bg=rev(the_colors),\n",
    "\n",
    "#        pch=c(22, 22, 22, 22, 22, NA),\n",
    "\n",
    "#        lty = c(NA, NA, NA, NA, NA, 1),\n",
    "\n",
    "#        cex=.8,\n",
    "\n",
    "#        bty=\"n\",\n",
    "\n",
    "#        pt.cex=c(1.75),\n",
    "\n",
    "#        xpd = TRUE)\n",
    "\n",
    "\n",
    "\n",
    "# ```\n"
   ]
  },
  {
   "cell_type": "markdown",
   "metadata": {},
   "source": [
    "\n",
    "\n",
    "\n"
   ]
  },
  {
   "cell_type": "code",
   "execution_count": null,
   "metadata": {},
   "outputs": [],
   "source": [
    "# ```{r dev-off1, echo=FALSE, warning=FALSE, message=FALSE, results=\"hide\"}\n",
    "\n",
    "# dev.off()\n",
    "\n",
    "# ```\n"
   ]
  },
  {
   "cell_type": "markdown",
   "metadata": {},
   "source": [
    "\n",
    "\n",
    "Make it look a bit nicer using a colorbrewer palette. I used the\n",
    "\n",
    "`RdYlGn` palette:\n",
    "\n",
    "\n",
    "\n",
    "`brewer.pal(5, 'RdYlGn')`\n",
    "\n",
    "\n",
    "\n",
    "\n"
   ]
  },
  {
   "cell_type": "code",
   "execution_count": null,
   "metadata": {},
   "outputs": [],
   "source": [
    "# Already did this above"
   ]
  },
  {
   "cell_type": "code",
   "execution_count": null,
   "metadata": {},
   "outputs": [],
   "source": [
    "# ```{r classify-output-plot3, echo=FALSE, fig.cap=\"classified NBR output\", fig.width=7, fig.height=5}\n",
    "\n",
    "# # look at colors\n",
    "\n",
    "# # display.brewer.all()\n",
    "\n",
    "# the_colors <- rev(brewer.pal(5, 'RdYlGn'))\n",
    "\n",
    "# # mar bottom, left, top and right\n",
    "\n",
    "# par(mar=c(0,0,2,5))\n",
    "\n",
    "# plot(nbr_classified,\n",
    "\n",
    "#      col=the_colors,\n",
    "\n",
    "#      legend=F,\n",
    "\n",
    "#      axes=F,\n",
    "\n",
    "#      box=F,\n",
    "\n",
    "#      main=\"Landsat NBR - Cold Spring fire site \\n Add date of the data here\")\n",
    "\n",
    "#      plot(fire_boundary_utm, add=T,\n",
    "\n",
    "#           lwd=5)\n",
    "\n",
    "# legend(nbr_classified@extent@xmax-50, nbr_classified@extent@ymax,\n",
    "\n",
    "#        c(\"Enhanced Regrowth\", \"Unburned\", \"Low Severity\", \"Moderate Severity\", \"High Severity\", \"Fire boundary\"),\n",
    "\n",
    "#        col= \"black\",\n",
    "\n",
    "#        pt.bg = the_colors,\n",
    "\n",
    "#        pch=c(22, 22, 22, 22, 22, NA),\n",
    "\n",
    "#        lty = c(NA, NA, NA, NA, NA, 1),\n",
    "\n",
    "#        cex=.8,\n",
    "\n",
    "#        bty=\"n\",\n",
    "\n",
    "#        pt.cex=c(1.75),\n",
    "\n",
    "#        xpd=T)\n",
    "\n",
    "# ```\n"
   ]
  },
  {
   "cell_type": "markdown",
   "metadata": {},
   "source": [
    "\n",
    "\n",
    "Note that you will have to figure out what date these data are for! I purposefully\n",
    "\n",
    "didn't include it in the title of this map.\n",
    "\n",
    "\n"
   ]
  },
  {
   "cell_type": "code",
   "execution_count": null,
   "metadata": {},
   "outputs": [],
   "source": [
    "# ```{r dev-off, echo=FALSE, warning=FALSE, message=FALSE, results=\"hide\", fig.width=7, fig.height=5}\n",
    "\n",
    "# dev.off()\n",
    "\n",
    "# ```\n"
   ]
  },
  {
   "cell_type": "markdown",
   "metadata": {},
   "source": [
    "\n",
    "\n",
    "\n"
   ]
  },
  {
   "cell_type": "code",
   "execution_count": null,
   "metadata": {},
   "outputs": [],
   "source": [
    "# This may not be quite right..."
   ]
  },
  {
   "cell_type": "code",
   "execution_count": null,
   "metadata": {},
   "outputs": [],
   "source": [
    "fig, ax = plt.subplots()\n",
    "ax.hist(nbr_classified.ravel(), bins=range(5))\n",
    "ax.set_xticks(np.arange(5) + .5)\n",
    "ax.set_xticklabels(categories, rotation=45, horizontalalignment='right')\n",
    "ax.set(title=\"Distribution of Classified NBR Values\")"
   ]
  },
  {
   "cell_type": "code",
   "execution_count": null,
   "metadata": {},
   "outputs": [],
   "source": [
    "# ```{r view-bar, warning=FALSE, fig.cap=\"plot barplot of fire severity values\"}\n",
    "\n",
    "# barplot(nbr_classified,\n",
    "\n",
    "#         main=\"Distribution of Classified NBR Values\",\n",
    "\n",
    "#         col=the_colors)\n",
    "\n",
    "# ```\n"
   ]
  },
  {
   "cell_type": "markdown",
   "metadata": {},
   "source": [
    "\n",
    "\n",
    "Add labels to your barplot!\n",
    "\n",
    "\n"
   ]
  },
  {
   "cell_type": "code",
   "execution_count": null,
   "metadata": {},
   "outputs": [],
   "source": [
    "# ```{r view-barplot1, warning=FALSE, fig.cap=\"plot barplot of fire severity values with labels\"}\n",
    "\n",
    "# barplot(nbr_classified,\n",
    "\n",
    "#         main=\"Distribution of Classified NBR Values\",\n",
    "\n",
    "#         col=the_colors,\n",
    "\n",
    "#         names.arg = c(\"Enhanced \\nRegrowth\", \"Unburned\", \"Low \\n Severity\", \"Moderate \\n Severity\", \"High \\nSeverity\"))\n",
    "\n",
    "# ```\n"
   ]
  }
 ],
 "metadata": {
  "kernelspec": {
   "display_name": "Python [default]",
   "language": "python",
   "name": "python3"
  },
  "language_info": {
   "codemirror_mode": {
    "name": "ipython",
    "version": 3
   },
   "file_extension": ".py",
   "mimetype": "text/x-python",
   "name": "python",
   "nbconvert_exporter": "python",
   "pygments_lexer": "ipython3",
   "version": "3.6.4"
  },
  "toc": {
   "toc_cell": false,
   "toc_number_sections": false,
   "toc_threshold": "2",
   "toc_window_display": false
  }
 },
 "nbformat": 4,
 "nbformat_minor": 2
}
