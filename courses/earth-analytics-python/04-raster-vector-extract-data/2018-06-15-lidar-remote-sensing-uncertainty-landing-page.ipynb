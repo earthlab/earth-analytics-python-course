{
 "cells": [
  {
   "cell_type": "raw",
   "metadata": {},
   "source": [
    "---\n",
    "layout: single\n",
    "category: courses\n",
    "title: \"Lidar Remote Sensing Uncertainty - Compare Ground to Lidar Measurements of Tree Height in Python\"\n",
    "permalink: /courses/earth-analytics-python/lidar-remote-sensing-uncertainty/\n",
    "week-landing: 4\n",
    "modified: '{:%Y-%m-%d}'.format(datetime.now())\n",
    "week: 4\n",
    "sidebar:\n",
    "  nav:\n",
    "comments: false\n",
    "author_profile: false\n",
    "course: \"earth-analytics-python\"\n",
    "module-type: 'session'\n",
    "---"
   ]
  },
  {
   "cell_type": "markdown",
   "metadata": {},
   "source": [
    "{% include toc title=\"This Week\" icon=\"file-text\" %}\n",
    "\n",
    "<div class=\"notice--info\" markdown=\"1\">\n",
    "\n",
    "## <i class=\"fa fa-ship\" aria-hidden=\"true\"></i> Welcome to Week {{ page.week }}!\n",
    "\n",
    "Welcome to week {{ page.week }} of Earth Analytics! This week, you will explore\n",
    "the concept of uncertainty surrounding lidar raster data (and remote sensing\n",
    "data in general). You will use the same data that you downloaded last week for class.\n",
    "\n",
    "For your homework you'll also need to download the data below. You can do this most easily `using earthpy.get_data()`.\n",
    "\n",
    "{% include/data_subsets/course_earth_analytics/_data-spatial-lidar.md %}\n",
    "\n",
    "*******\n",
    "\n",
    "## <i class=\"fa fa-pencil-square-o\" aria-hidden=\"true\"></i> Homework \n",
    "\n",
    "### The Homework Assignment for This Week Can Be Found on Github \n",
    "\n",
    "\n",
    "<a href=\"https://github.com/earthlab-education/ea-python-2020-04-lidar-uncertainty-template\" target=\"_blank\">Click here to view the GitHub Repo with the assignment template. </a>\n",
    "\n",
    "The lessons for this week have been moved to our <a href=\"https://www.earthdatascience.org/courses/use-data-open-source-python/\">Intermediate Earth Analytics Textbook. </a>\n",
    "\n",
    "### Earth Analytics Textbook Chapters\n",
    "\n",
    "Please read the following chapters to support completing this week's assignment:\n",
    "* <a href=\"https://www.earthdatascience.org/courses/use-data-open-source-python/spatial-data-applications/lidar-remote-sensing-uncertainty/\">NEW: Raster / Vector Spatial Data Applications: Compare Lidar to Human Measured Tree Heights -- Uncertainty</a>\n",
    "* <a href=\"https://www.earthdatascience.org/courses/use-data-open-source-python/intro-vector-data-python/\">REVIEW: Intro to Vector Spatial Data in Open Source Python</a>\n",
    "\n",
    "\n",
    "### 1. Readings\n",
    "* <a href=\"http://journals.plos.org/plosone/article?id=10.1371/journal.pone.0054776\" target=\"_blank\">Influence of Vegetation Structure on Lidar-derived Canopy Height and Fractional Cover in Forested Riparian Buffers During Leaf-Off and Leaf-On Conditions</a>\n",
    "* <a href=\"http://www.sciencedirect.com/science/article/pii/S0303243403000047\" target=\"_blank\">The characterization and measurement of land cover change through remote sensing: problems in operational applications?</a>\n",
    "*  <a href=\"https://www.nde-ed.org/GeneralResources/ErrorAnalysis/UncertaintyTerms.htm\" target=\"_blank\">Learn more about the various uncertainty terms.</a>\n",
    "\n",
    "</div>\n",
    "\n",
    "\n",
    "## Example Homework Plots\n",
    "\n",
    "The plots below are examples of what your plot could look like. Feel free to\n",
    "customize or modify plot settings as you see fit! "
   ]
  },
  {
   "cell_type": "code",
   "execution_count": 1,
   "metadata": {
    "tags": [
     "hide"
    ]
   },
   "outputs": [],
   "source": [
    "import os\n",
    "from scipy import stats\n",
    "import numpy as np\n",
    "import seaborn as sns\n",
    "import warnings\n",
    "import matplotlib.pyplot as plt\n",
    "import pandas as pd\n",
    "import geopandas as gpd\n",
    "import rioxarray as rxr\n",
    "from rasterio.plot import plotting_extent\n",
    "import rasterstats as rs\n",
    "import earthpy as et\n",
    "\n",
    "# Set plot styles\n",
    "sns.set(font_scale=1.5)\n",
    "sns.set_style(\"white\")"
   ]
  },
  {
   "cell_type": "code",
   "execution_count": 2,
   "metadata": {
    "tags": [
     "hide",
     "hide_output"
    ]
   },
   "outputs": [],
   "source": [
    "# Get data from EarthPy\n",
    "data = et.data.get_data('spatial-vector-lidar')\n",
    "\n",
    "# Change home directory, and turn off warnings\n",
    "os.chdir(os.path.join(et.io.HOME, 'earth-analytics', 'data'))\n",
    "warnings.simplefilter('ignore')"
   ]
  },
  {
   "cell_type": "code",
   "execution_count": 3,
   "metadata": {
    "tags": [
     "hide"
    ]
   },
   "outputs": [],
   "source": [
    "# Import SJER plot locations & insitu data\n",
    "sjer_data_path = os.path.join(\n",
    "    'spatial-vector-lidar', 'california', 'neon-sjer-site')\n",
    "# Read in insitu data and gather max and mean for each site location\n",
    "sjer_insitu_path = os.path.join(\n",
    "    sjer_data_path, '2013', 'insitu', 'veg_structure', 'D17_2013_SJER_vegStr.csv')\n",
    "sjer_insitu = pd.read_csv(sjer_insitu_path)\n",
    "\n",
    "# Read in lidar CHM data and centroids for SJER\n",
    "sjer_points_path = os.path.join(\n",
    "    sjer_data_path, 'vector_data', 'SJER_plot_centroids.shp')\n",
    "sjer_points = gpd.read_file(sjer_points_path)"
   ]
  },
  {
   "cell_type": "code",
   "execution_count": 4,
   "metadata": {
    "tags": [
     "hide"
    ]
   },
   "outputs": [],
   "source": [
    "# Sjer Data -- Import lidar chm, run zonal stats on data\n",
    "\n",
    "# Import lidar CHM\n",
    "sjer_lidar_chm_path = os.path.join(\n",
    "    sjer_data_path, '2013', 'lidar', 'SJER_lidarCHM.tif')\n",
    "\n",
    "sjer_chm = rxr.open_rasterio(sjer_lidar_chm_path, masked=True).squeeze()\n",
    "sjer_chm = sjer_chm.where(sjer_chm != 0, np.nan)\n",
    "\n",
    "# Getting affine object\n",
    "sjer_chm_aff = sjer_chm.rio.transform()\n",
    "\n",
    "# Add buffer around lidar SJER plots & export as shapefile to use in zonal stats\n",
    "sjer_plot_poly = sjer_points.copy()\n",
    "sjer_plot_poly['geometry'] = sjer_points.geometry.buffer(20)\n",
    "sjer_plots_buffer_path = os.path.join(\n",
    "    'spatial-vector-lidar', 'outputs', 'sjer_plot_buffer.shp')\n",
    "sjer_plot_poly.to_file(sjer_plots_buffer_path)\n",
    "\n",
    "# Extract raster stats\n",
    "sjer_lidar = rs.zonal_stats(sjer_plots_buffer_path,\n",
    "                            sjer_chm.values,\n",
    "                            affine=sjer_chm_aff,\n",
    "                            geojson_out=True,\n",
    "                            nodata=0,\n",
    "                            copy_properties=True,\n",
    "                            stats=\"max mean\")\n",
    "\n",
    "# Create gdf and clean up col names\n",
    "sjer_lidar_mean_max = gpd.GeoDataFrame.from_features(sjer_lidar)\n",
    "sjer_lidar_mean_max = sjer_lidar_mean_max.rename(\n",
    "    columns={'max': 'lidar_max', 'mean': 'lidar_mean'})\n",
    "sjer_lidar_mean_max = sjer_lidar_mean_max[[\n",
    "    \"Plot_ID\", \"geometry\", \"lidar_max\", \"lidar_mean\"]]"
   ]
  },
  {
   "cell_type": "markdown",
   "metadata": {
    "tags": [
     "hide"
    ]
   },
   "source": [
    "#### Plots 1 - 4: Scatterplots With Regression & a 1:1 Line\n",
    "\n",
    "For both the SJER and SOAP field sites, create scatter plots that compare:\n",
    "\n",
    "* **MAXIMUM** canopy height model height in meters, extracted within a 20 meter radius, compared to **MAXIMUM** tree\n",
    "height derived from the *insitu* field site data.\n",
    "* **MEAN** canopy height model height in meters, extracted within a 20 meter radius, compared to **MEAN** tree height derived from the *insitu* field site data.\n",
    "\n",
    "For each of these plots be sure to:\n",
    "\n",
    "1. Place lidar data values on the X axis and human measured tree height on the Y axis\n",
    "2. Include a calculated **regression line** (HINT use `sns.plot()` to achieve this line) that describes the relationship of lidar of the data\n",
    "3. Include a separate **1:1 line** that can be used to compare the regression fit to a perfect 1:1 fit. \n",
    "4. Set the x and y limits to be the SAME for each individual plot. This means that for plot 3 the x and y limits are the same. For plot 4 the x and y limits are the same. NOTE: You may have different limits for each plot depending on the data being rendered. Thus plot 3 x and plot 3 y axis may be the same. But plot 3 x axis does NOT need to be the same as plot 4 x axis. \n",
    "5. Plot the SJER plots within one figure using two ax elements (ax1, ax2) \n",
    "6. Plot the SOAP plots within one figure using two ax elements (ax1, ax2) \n",
    "\n",
    "HINT: the SOAP data have some inconsistencies in the column headings. One way to fix this is to use the syntax:\n",
    "\n",
    "`\"text-to-append-to-column\" + dataframe_name[\"column-name-here\"]`\n"
   ]
  },
  {
   "cell_type": "code",
   "execution_count": 5,
   "metadata": {
    "tags": [
     "hide"
    ]
   },
   "outputs": [],
   "source": [
    "# SJER -- Calculate mean and max from insitu data (csv file)\n",
    "\n",
    "# Summarize insitu data\n",
    "sjer_insitu_grp = sjer_insitu.groupby(\n",
    "    'plotid').stemheight.agg(['max', 'mean']).reset_index()\n",
    "sjer_insitu_grp = sjer_insitu_grp.rename(\n",
    "    columns={'max': 'insitu_max', 'mean': 'insitu_mean'})\n",
    "\n",
    "# Merge the two layers using a spatial join\n",
    "sjer_lidar_insitu = sjer_lidar_mean_max.merge(sjer_insitu_grp,\n",
    "                                              left_on='Plot_ID',\n",
    "                                              right_on='plotid')"
   ]
  },
  {
   "cell_type": "code",
   "execution_count": 6,
   "metadata": {
    "caption": "Plots of lidar min and max vs insitu min and max with a 1:1 line a regression fit for the NEON SJER field site.",
    "tags": [
     "hide"
    ]
   },
   "outputs": [
    {
     "data": {
      "image/png": "[encoded data removed]",
      "text/plain": [
       "<Figure size 720x1296 with 2 Axes>"
      ]
     },
     "metadata": {},
     "output_type": "display_data"
    }
   ],
   "source": [
    "# Plot 1 & 2 - SJER  min and max\n",
    "# Plot 1: Scatterplot of MAXIMUM canopy height model height in meters, extracted within a\n",
    "# 20 meter radius, compared to MAXIMUM tree height derived from the insitu field site data at the SJER site.\n",
    "# plot data\n",
    "fig, (ax1, ax2) = plt.subplots(2, 1, figsize=(10, 18))\n",
    "\n",
    "sns.regplot('lidar_max', 'insitu_max',\n",
    "            data=sjer_lidar_insitu,\n",
    "            color='purple',\n",
    "            ax=ax1)\n",
    "\n",
    "# 1:1 line\n",
    "ax1.plot((0, 1), (0, 1), transform=ax1.transAxes, ls='--', c='k')\n",
    "ax1.set(xlabel='Max Lidar Height(m)',\n",
    "        ylabel='Max InSitu Height(m)',\n",
    "        title='HW Plot 1: Lidar Max vs. InSitu Max Tree Height\\nSan Joaquin Field Site',\n",
    "        xlim=(0, 30),\n",
    "        ylim=(0, 30))\n",
    "sns.regplot('lidar_mean', 'insitu_mean',\n",
    "            data=sjer_lidar_insitu,\n",
    "            color='purple',\n",
    "            ax=ax2)\n",
    "ax2.set(xlabel='Mean Lidar Height(m)',\n",
    "        ylabel='Mean InSitu Height(m)',\n",
    "        title='HW Plot 2: Lidar Mean vs. InSitu Mean Tree Height\\nSan Joaquin Field Site',\n",
    "        xlim=(0, 30),\n",
    "        ylim=(0, 30))\n",
    "ax2.plot((0, 1), (0, 1), transform=ax2.transAxes, ls='--', c='k')\n",
    "plt.show()"
   ]
  },
  {
   "cell_type": "code",
   "execution_count": 7,
   "metadata": {
    "tags": [
     "hide"
    ]
   },
   "outputs": [],
   "source": [
    "# Import SOAP plot locations & insitu data\n",
    "soap_data_path = os.path.join(\n",
    "    'spatial-vector-lidar', 'california', 'neon-soap-site')\n",
    "\n",
    "path = os.path.join(soap_data_path, 'vector_data', 'SOAP_centroids.shp')\n",
    "soap_centroids = gpd.read_file(path)\n",
    "\n",
    "# Read in insitu data and gather max and mean for each site location\n",
    "path = os.path.join(soap_data_path, '2013', 'insitu',\n",
    "                    'veg-structure', 'D17_2013_SOAP_vegStr.csv')\n",
    "soap_insitu = pd.read_csv(path)"
   ]
  },
  {
   "cell_type": "code",
   "execution_count": 8,
   "metadata": {
    "tags": [
     "hide"
    ]
   },
   "outputs": [
    {
     "name": "stderr",
     "output_type": "stream",
     "text": [
      "ParseException: Unknown type: 'SPATIAL-VECTOR-LIDAR/OUTPUTS/SOAP_CENTROIDS_BUFFER.SHP'\n"
     ]
    },
    {
     "ename": "ValueError",
     "evalue": "Can't parse spatial-vector-lidar/outputs/soap_centroids_buffer.shp as a geojson Feature object",
     "output_type": "error",
     "traceback": [
      "\u001b[0;31m---------------------------------------------------------------------------\u001b[0m",
      "\u001b[0;31mJSONDecodeError\u001b[0m                           Traceback (most recent call last)",
      "\u001b[0;32m~/miniconda3/envs/earth-analytics-python/lib/python3.8/site-packages/rasterstats/io.py\u001b[0m in \u001b[0;36mread_features\u001b[0;34m(obj, layer)\u001b[0m\n\u001b[1;32m     99\u001b[0m             \u001b[0;32mtry\u001b[0m\u001b[0;34m:\u001b[0m\u001b[0;34m\u001b[0m\u001b[0;34m\u001b[0m\u001b[0m\n\u001b[0;32m--> 100\u001b[0;31m                 \u001b[0mmapping\u001b[0m \u001b[0;34m=\u001b[0m \u001b[0mjson\u001b[0m\u001b[0;34m.\u001b[0m\u001b[0mloads\u001b[0m\u001b[0;34m(\u001b[0m\u001b[0mobj\u001b[0m\u001b[0;34m)\u001b[0m\u001b[0;34m\u001b[0m\u001b[0;34m\u001b[0m\u001b[0m\n\u001b[0m\u001b[1;32m    101\u001b[0m                 \u001b[0;32mif\u001b[0m \u001b[0;34m'type'\u001b[0m \u001b[0;32min\u001b[0m \u001b[0mmapping\u001b[0m \u001b[0;32mand\u001b[0m \u001b[0mmapping\u001b[0m\u001b[0;34m[\u001b[0m\u001b[0;34m'type'\u001b[0m\u001b[0;34m]\u001b[0m \u001b[0;34m==\u001b[0m \u001b[0;34m'FeatureCollection'\u001b[0m\u001b[0;34m:\u001b[0m\u001b[0;34m\u001b[0m\u001b[0;34m\u001b[0m\u001b[0m\n",
      "\u001b[0;32m~/miniconda3/envs/earth-analytics-python/lib/python3.8/json/__init__.py\u001b[0m in \u001b[0;36mloads\u001b[0;34m(s, cls, object_hook, parse_float, parse_int, parse_constant, object_pairs_hook, **kw)\u001b[0m\n\u001b[1;32m    356\u001b[0m             parse_constant is None and object_pairs_hook is None and not kw):\n\u001b[0;32m--> 357\u001b[0;31m         \u001b[0;32mreturn\u001b[0m \u001b[0m_default_decoder\u001b[0m\u001b[0;34m.\u001b[0m\u001b[0mdecode\u001b[0m\u001b[0;34m(\u001b[0m\u001b[0ms\u001b[0m\u001b[0;34m)\u001b[0m\u001b[0;34m\u001b[0m\u001b[0;34m\u001b[0m\u001b[0m\n\u001b[0m\u001b[1;32m    358\u001b[0m     \u001b[0;32mif\u001b[0m \u001b[0mcls\u001b[0m \u001b[0;32mis\u001b[0m \u001b[0;32mNone\u001b[0m\u001b[0;34m:\u001b[0m\u001b[0;34m\u001b[0m\u001b[0;34m\u001b[0m\u001b[0m\n",
      "\u001b[0;32m~/miniconda3/envs/earth-analytics-python/lib/python3.8/json/decoder.py\u001b[0m in \u001b[0;36mdecode\u001b[0;34m(self, s, _w)\u001b[0m\n\u001b[1;32m    336\u001b[0m         \"\"\"\n\u001b[0;32m--> 337\u001b[0;31m         \u001b[0mobj\u001b[0m\u001b[0;34m,\u001b[0m \u001b[0mend\u001b[0m \u001b[0;34m=\u001b[0m \u001b[0mself\u001b[0m\u001b[0;34m.\u001b[0m\u001b[0mraw_decode\u001b[0m\u001b[0;34m(\u001b[0m\u001b[0ms\u001b[0m\u001b[0;34m,\u001b[0m \u001b[0midx\u001b[0m\u001b[0;34m=\u001b[0m\u001b[0m_w\u001b[0m\u001b[0;34m(\u001b[0m\u001b[0ms\u001b[0m\u001b[0;34m,\u001b[0m \u001b[0;36m0\u001b[0m\u001b[0;34m)\u001b[0m\u001b[0;34m.\u001b[0m\u001b[0mend\u001b[0m\u001b[0;34m(\u001b[0m\u001b[0;34m)\u001b[0m\u001b[0;34m)\u001b[0m\u001b[0;34m\u001b[0m\u001b[0;34m\u001b[0m\u001b[0m\n\u001b[0m\u001b[1;32m    338\u001b[0m         \u001b[0mend\u001b[0m \u001b[0;34m=\u001b[0m \u001b[0m_w\u001b[0m\u001b[0;34m(\u001b[0m\u001b[0ms\u001b[0m\u001b[0;34m,\u001b[0m \u001b[0mend\u001b[0m\u001b[0;34m)\u001b[0m\u001b[0;34m.\u001b[0m\u001b[0mend\u001b[0m\u001b[0;34m(\u001b[0m\u001b[0;34m)\u001b[0m\u001b[0;34m\u001b[0m\u001b[0;34m\u001b[0m\u001b[0m\n",
      "\u001b[0;32m~/miniconda3/envs/earth-analytics-python/lib/python3.8/json/decoder.py\u001b[0m in \u001b[0;36mraw_decode\u001b[0;34m(self, s, idx)\u001b[0m\n\u001b[1;32m    354\u001b[0m         \u001b[0;32mexcept\u001b[0m \u001b[0mStopIteration\u001b[0m \u001b[0;32mas\u001b[0m \u001b[0merr\u001b[0m\u001b[0;34m:\u001b[0m\u001b[0;34m\u001b[0m\u001b[0;34m\u001b[0m\u001b[0m\n\u001b[0;32m--> 355\u001b[0;31m             \u001b[0;32mraise\u001b[0m \u001b[0mJSONDecodeError\u001b[0m\u001b[0;34m(\u001b[0m\u001b[0;34m\"Expecting value\"\u001b[0m\u001b[0;34m,\u001b[0m \u001b[0ms\u001b[0m\u001b[0;34m,\u001b[0m \u001b[0merr\u001b[0m\u001b[0;34m.\u001b[0m\u001b[0mvalue\u001b[0m\u001b[0;34m)\u001b[0m \u001b[0;32mfrom\u001b[0m \u001b[0;32mNone\u001b[0m\u001b[0;34m\u001b[0m\u001b[0;34m\u001b[0m\u001b[0m\n\u001b[0m\u001b[1;32m    356\u001b[0m         \u001b[0;32mreturn\u001b[0m \u001b[0mobj\u001b[0m\u001b[0;34m,\u001b[0m \u001b[0mend\u001b[0m\u001b[0;34m\u001b[0m\u001b[0;34m\u001b[0m\u001b[0m\n",
      "\u001b[0;31mJSONDecodeError\u001b[0m: Expecting value: line 1 column 1 (char 0)",
      "\nDuring handling of the above exception, another exception occurred:\n",
      "\u001b[0;31mValueError\u001b[0m                                Traceback (most recent call last)",
      "\u001b[0;32m<ipython-input-8-16fac12b09a5>\u001b[0m in \u001b[0;36m<module>\u001b[0;34m\u001b[0m\n\u001b[1;32m     17\u001b[0m \u001b[0;34m\u001b[0m\u001b[0m\n\u001b[1;32m     18\u001b[0m \u001b[0;31m# extract zonal stats and turn to a pandas geo data frame\u001b[0m\u001b[0;34m\u001b[0m\u001b[0;34m\u001b[0m\u001b[0;34m\u001b[0m\u001b[0m\n\u001b[0;32m---> 19\u001b[0;31m soap_lidar = rs.zonal_stats(soap_centroids_buffer_path,\n\u001b[0m\u001b[1;32m     20\u001b[0m                             \u001b[0msoap_chm\u001b[0m\u001b[0;34m.\u001b[0m\u001b[0mvalues\u001b[0m\u001b[0;34m,\u001b[0m\u001b[0;34m\u001b[0m\u001b[0;34m\u001b[0m\u001b[0m\n\u001b[1;32m     21\u001b[0m                             \u001b[0maffine\u001b[0m\u001b[0;34m=\u001b[0m\u001b[0msoap_aff\u001b[0m\u001b[0;34m,\u001b[0m\u001b[0;34m\u001b[0m\u001b[0;34m\u001b[0m\u001b[0m\n",
      "\u001b[0;32m~/miniconda3/envs/earth-analytics-python/lib/python3.8/site-packages/rasterstats/main.py\u001b[0m in \u001b[0;36mzonal_stats\u001b[0;34m(*args, **kwargs)\u001b[0m\n\u001b[1;32m     29\u001b[0m     \u001b[0mThe\u001b[0m \u001b[0monly\u001b[0m \u001b[0mdifference\u001b[0m \u001b[0;32mis\u001b[0m \u001b[0mthat\u001b[0m\u001b[0;31m \u001b[0m\u001b[0;31m`\u001b[0m\u001b[0;31m`\u001b[0m\u001b[0mzonal_stats\u001b[0m\u001b[0;31m`\u001b[0m\u001b[0;31m`\u001b[0m \u001b[0mwill\u001b[0m\u001b[0;34m\u001b[0m\u001b[0;34m\u001b[0m\u001b[0m\n\u001b[1;32m     30\u001b[0m     return a list rather than a generator.\"\"\"\n\u001b[0;32m---> 31\u001b[0;31m     \u001b[0;32mreturn\u001b[0m \u001b[0mlist\u001b[0m\u001b[0;34m(\u001b[0m\u001b[0mgen_zonal_stats\u001b[0m\u001b[0;34m(\u001b[0m\u001b[0;34m*\u001b[0m\u001b[0margs\u001b[0m\u001b[0;34m,\u001b[0m \u001b[0;34m**\u001b[0m\u001b[0mkwargs\u001b[0m\u001b[0;34m)\u001b[0m\u001b[0;34m)\u001b[0m\u001b[0;34m\u001b[0m\u001b[0;34m\u001b[0m\u001b[0m\n\u001b[0m\u001b[1;32m     32\u001b[0m \u001b[0;34m\u001b[0m\u001b[0m\n\u001b[1;32m     33\u001b[0m \u001b[0;34m\u001b[0m\u001b[0m\n",
      "\u001b[0;32m~/miniconda3/envs/earth-analytics-python/lib/python3.8/site-packages/rasterstats/main.py\u001b[0m in \u001b[0;36mgen_zonal_stats\u001b[0;34m(vectors, raster, layer, band, nodata, affine, stats, all_touched, categorical, category_map, add_stats, zone_func, raster_out, prefix, geojson_out, **kwargs)\u001b[0m\n\u001b[1;32m    145\u001b[0m \u001b[0;34m\u001b[0m\u001b[0m\n\u001b[1;32m    146\u001b[0m     \u001b[0;32mwith\u001b[0m \u001b[0mRaster\u001b[0m\u001b[0;34m(\u001b[0m\u001b[0mraster\u001b[0m\u001b[0;34m,\u001b[0m \u001b[0maffine\u001b[0m\u001b[0;34m,\u001b[0m \u001b[0mnodata\u001b[0m\u001b[0;34m,\u001b[0m \u001b[0mband\u001b[0m\u001b[0;34m)\u001b[0m \u001b[0;32mas\u001b[0m \u001b[0mrast\u001b[0m\u001b[0;34m:\u001b[0m\u001b[0;34m\u001b[0m\u001b[0;34m\u001b[0m\u001b[0m\n\u001b[0;32m--> 147\u001b[0;31m         \u001b[0mfeatures_iter\u001b[0m \u001b[0;34m=\u001b[0m \u001b[0mread_features\u001b[0m\u001b[0;34m(\u001b[0m\u001b[0mvectors\u001b[0m\u001b[0;34m,\u001b[0m \u001b[0mlayer\u001b[0m\u001b[0;34m)\u001b[0m\u001b[0;34m\u001b[0m\u001b[0;34m\u001b[0m\u001b[0m\n\u001b[0m\u001b[1;32m    148\u001b[0m         \u001b[0;32mfor\u001b[0m \u001b[0m_\u001b[0m\u001b[0;34m,\u001b[0m \u001b[0mfeat\u001b[0m \u001b[0;32min\u001b[0m \u001b[0menumerate\u001b[0m\u001b[0;34m(\u001b[0m\u001b[0mfeatures_iter\u001b[0m\u001b[0;34m)\u001b[0m\u001b[0;34m:\u001b[0m\u001b[0;34m\u001b[0m\u001b[0;34m\u001b[0m\u001b[0m\n\u001b[1;32m    149\u001b[0m             \u001b[0mgeom\u001b[0m \u001b[0;34m=\u001b[0m \u001b[0mshape\u001b[0m\u001b[0;34m(\u001b[0m\u001b[0mfeat\u001b[0m\u001b[0;34m[\u001b[0m\u001b[0;34m'geometry'\u001b[0m\u001b[0;34m]\u001b[0m\u001b[0;34m)\u001b[0m\u001b[0;34m\u001b[0m\u001b[0;34m\u001b[0m\u001b[0m\n",
      "\u001b[0;32m~/miniconda3/envs/earth-analytics-python/lib/python3.8/site-packages/rasterstats/io.py\u001b[0m in \u001b[0;36mread_features\u001b[0;34m(obj, layer)\u001b[0m\n\u001b[1;32m    105\u001b[0m             \u001b[0;32mexcept\u001b[0m \u001b[0;34m(\u001b[0m\u001b[0mValueError\u001b[0m\u001b[0;34m,\u001b[0m \u001b[0mJSONDecodeError\u001b[0m\u001b[0;34m)\u001b[0m\u001b[0;34m:\u001b[0m\u001b[0;34m\u001b[0m\u001b[0;34m\u001b[0m\u001b[0m\n\u001b[1;32m    106\u001b[0m                 \u001b[0;31m# Single feature-like string\u001b[0m\u001b[0;34m\u001b[0m\u001b[0;34m\u001b[0m\u001b[0;34m\u001b[0m\u001b[0m\n\u001b[0;32m--> 107\u001b[0;31m                 \u001b[0mfeatures_iter\u001b[0m \u001b[0;34m=\u001b[0m \u001b[0;34m[\u001b[0m\u001b[0mparse_feature\u001b[0m\u001b[0;34m(\u001b[0m\u001b[0mobj\u001b[0m\u001b[0;34m)\u001b[0m\u001b[0;34m]\u001b[0m\u001b[0;34m\u001b[0m\u001b[0;34m\u001b[0m\u001b[0m\n\u001b[0m\u001b[1;32m    108\u001b[0m     \u001b[0;32melif\u001b[0m \u001b[0misinstance\u001b[0m\u001b[0;34m(\u001b[0m\u001b[0mobj\u001b[0m\u001b[0;34m,\u001b[0m \u001b[0mMapping\u001b[0m\u001b[0;34m)\u001b[0m\u001b[0;34m:\u001b[0m\u001b[0;34m\u001b[0m\u001b[0;34m\u001b[0m\u001b[0m\n\u001b[1;32m    109\u001b[0m         \u001b[0;32mif\u001b[0m \u001b[0;34m'type'\u001b[0m \u001b[0;32min\u001b[0m \u001b[0mobj\u001b[0m \u001b[0;32mand\u001b[0m \u001b[0mobj\u001b[0m\u001b[0;34m[\u001b[0m\u001b[0;34m'type'\u001b[0m\u001b[0;34m]\u001b[0m \u001b[0;34m==\u001b[0m \u001b[0;34m'FeatureCollection'\u001b[0m\u001b[0;34m:\u001b[0m\u001b[0;34m\u001b[0m\u001b[0;34m\u001b[0m\u001b[0m\n",
      "\u001b[0;32m~/miniconda3/envs/earth-analytics-python/lib/python3.8/site-packages/rasterstats/io.py\u001b[0m in \u001b[0;36mparse_feature\u001b[0;34m(obj)\u001b[0m\n\u001b[1;32m     78\u001b[0m         \u001b[0;32mpass\u001b[0m\u001b[0;34m\u001b[0m\u001b[0;34m\u001b[0m\u001b[0m\n\u001b[1;32m     79\u001b[0m \u001b[0;34m\u001b[0m\u001b[0m\n\u001b[0;32m---> 80\u001b[0;31m     \u001b[0;32mraise\u001b[0m \u001b[0mValueError\u001b[0m\u001b[0;34m(\u001b[0m\u001b[0;34m\"Can't parse %s as a geojson Feature object\"\u001b[0m \u001b[0;34m%\u001b[0m \u001b[0mobj\u001b[0m\u001b[0;34m)\u001b[0m\u001b[0;34m\u001b[0m\u001b[0;34m\u001b[0m\u001b[0m\n\u001b[0m\u001b[1;32m     81\u001b[0m \u001b[0;34m\u001b[0m\u001b[0m\n\u001b[1;32m     82\u001b[0m \u001b[0;34m\u001b[0m\u001b[0m\n",
      "\u001b[0;31mValueError\u001b[0m: Can't parse spatial-vector-lidar/outputs/soap_centroids_buffer.shp as a geojson Feature object"
     ]
    }
   ],
   "source": [
    "# SOAP Data -- Import lidar chm, run zonal stats on data\n",
    "soap_lidar_chm_path = os.path.join(\n",
    "    soap_data_path, '2013', 'lidar', 'SOAP_lidarCHM.tif')\n",
    "\n",
    "soap_chm = rxr.open_rasterio(soap_lidar_chm_path, masked=True).squeeze()\n",
    "soap_chm = soap_chm.where(soap_chm != 0, np.nan)\n",
    "soap_aff = soap_chm.rio.transform()\n",
    "\n",
    "# Drop unnecessary columns\n",
    "soap_centroids = soap_centroids[[\"ID\", \"geometry\"]]\n",
    "\n",
    "# Add buffer around lidar SOAP plots & export as shapefile to use in zonal stats\n",
    "soap_centroids['geometry'] = soap_centroids.geometry.buffer(20)\n",
    "soap_centroids_buffer_path = os.path.join(\n",
    "    'spatial-vector-lidar', 'outputs', 'soap_centroids_buffer.shp')\n",
    "\n",
    "soap_centroids.to_file(soap_centroids_buffer_path)\n",
    "\n",
    "# extract zonal stats and turn to a pandas geo data frame\n",
    "soap_lidar = rs.zonal_stats(soap_centroids_buffer_path,\n",
    "                            soap_chm.values,\n",
    "                            affine=soap_aff,\n",
    "                            geojson_out=True,\n",
    "                            copy_properties=True,\n",
    "                            stats=\"max mean\")\n",
    "\n",
    "soap_lidar_mean_max = gpd.GeoDataFrame.from_features(soap_lidar)\n",
    "soap_lidar_mean_max = soap_lidar_mean_max.rename(\n",
    "    columns={'max': 'lidar_max', 'mean': 'lidar_mean', 'ID': 'plotid'})\n",
    "soap_lidar_mean_max[\"plotid\"] = \"SOAP\" + soap_lidar_mean_max[\"plotid\"]"
   ]
  },
  {
   "cell_type": "code",
   "execution_count": null,
   "metadata": {
    "tags": [
     "hide"
    ]
   },
   "outputs": [],
   "source": [
    "# SOAP -- Calculate mean and max from insitu data (csv file), rename columns,\n",
    "soap_insitu_mean_max = soap_insitu[[\"siteid\", \"plotid\", \"stemheight\"]]\n",
    "soap_insitu_mean_max = soap_insitu_mean_max.groupby(\n",
    "    'plotid', as_index=False).stemheight.agg(['max', 'mean']).reset_index()\n",
    "soap_insitu_mean_max = soap_insitu_mean_max.rename(\n",
    "    columns={'max': 'insitu_max', 'mean': 'insitu_mean'})\n",
    "#soap_insitu_mean_max['insitu_id'] = [pid[4:] for pid in soap_insitu['plotid']]\n",
    "# Spatial join the soaproot lidar mean max data to the insitu\n",
    "# account for the difference in col names\n",
    "soap_lidar_insitu = soap_lidar_mean_max.merge(soap_insitu_mean_max,\n",
    "                                              left_on='plotid',\n",
    "                                              right_on='plotid')\n",
    "# soap_joined['geometry'] = soap_joined.centroid"
   ]
  },
  {
   "cell_type": "code",
   "execution_count": null,
   "metadata": {
    "caption": "Plots of lidar min and max vs insitu min and max with a 1:1 line a regression fit for the NEON SOAP field site.",
    "tags": [
     "hide"
    ]
   },
   "outputs": [],
   "source": [
    "# Plot Code only for HW Plots 3 & 4 Here\n",
    "fig, (ax1, ax2) = plt.subplots(2, 1, figsize=(10, 18))\n",
    "#plt.subplots_adjust(top=1, bottom=.9)\n",
    "sns.regplot('lidar_max', 'insitu_max',\n",
    "            data=soap_lidar_insitu,\n",
    "            color='purple',\n",
    "            ax=ax1)\n",
    "\n",
    "# 1:1 line\n",
    "ax1.plot((0, 1), (0, 1), transform=ax1.transAxes, ls='--', c='k')\n",
    "\n",
    "ax1.set(xlabel='Max Lidar Height(m)',\n",
    "        ylabel='Max InSitu Height(m)',\n",
    "        title='HW Plot 3: Lidar Max vs. InSitu Max Tree Height\\nSoaproot Saddle Field Site',\n",
    "        xlim=(0, 140),\n",
    "        ylim=(0, 140))\n",
    "\n",
    "sns.regplot('lidar_mean', 'insitu_mean',\n",
    "            data=soap_lidar_insitu,\n",
    "            color='purple',\n",
    "            ax=ax2)\n",
    "\n",
    "ax2.set(xlabel='Mean Lidar Height(m)',\n",
    "        ylabel='Mean InSitu Height(m)',\n",
    "        title='HW Plot 4: Lidar Mean vs. InSitu Mean Tree Height\\nSoaproot Saddle Field Site',\n",
    "        xlim=(0, 40),\n",
    "        ylim=(0, 40))\n",
    "ax2.plot((0, 1), (0, 1), transform=ax2.transAxes, ls='--', c='k')\n",
    "\n",
    "plt.show()"
   ]
  },
  {
   "cell_type": "markdown",
   "metadata": {
    "tags": [
     "hide"
    ]
   },
   "source": [
    "### Calculated Regression Fit \n",
    "\n",
    "The above plots show the regression fit as calculated by the `seaborn` python package. Use `stats.linregression()` to calculate the slope and intercept of the regresion fit for each of the plots above. \n",
    "\n",
    "Print the outputs below. \n"
   ]
  },
  {
   "cell_type": "code",
   "execution_count": null,
   "metadata": {
    "tags": [
     "hide",
     "hide_outputs"
    ]
   },
   "outputs": [],
   "source": [
    "## SJER - Regression\n",
    "\n",
    "# slope, intercept, r_value, p_value, std_err = stats.linregress(\n",
    "#     sjer_lidar_insitu.lidar_mean, sjer_lidar_insitu.insitu_mean)\n",
    "# print(\"SJER - Mean Height Comparison\")\n",
    "# print(\"slope:\", \"print-slope-value-here\",\n",
    "#       \"intercept:\", \"print-intercept-value-here\")\n",
    "# slope, intercept, r_value, p_value, std_err = stats.linregress(\n",
    "#     sjer_lidar_insitu.lidar_max, sjer_lidar_insitu.insitu_max)\n",
    "# print(\"\\nSJER - Max Height Comparison\")\n",
    "# print(\"slope:\", \"print-slope-value-here\",\n",
    "#       \"intercept:\", \"print-intercept-value-here\")"
   ]
  },
  {
   "cell_type": "code",
   "execution_count": null,
   "metadata": {
    "tags": [
     "hide"
    ]
   },
   "outputs": [],
   "source": [
    "# Soaproot Saddle - Regression\n",
    "\n",
    "slope, intercept, r_value, p_value, std_err = stats.linregress(\n",
    "    soap_lidar_insitu.lidar_mean, soap_lidar_insitu.insitu_mean)\n",
    "#print(\"\\nSOAP - Mean Height Comparison\")\n",
    "#print(\"slope:\", round(slope,2), \"intercept:\",round(intercept,2))\n",
    "\n",
    "slope, intercept, r_value, p_value, std_err = stats.linregress(\n",
    "    soap_lidar_insitu.lidar_max, soap_lidar_insitu.insitu_max)\n",
    "\n",
    "#print(\"\\nSOAP - Max Height Comparison\")\n",
    "#print(\"slope:\", round(slope,2), \"intercept:\",round(intercept,2))"
   ]
  },
  {
   "cell_type": "markdown",
   "metadata": {
    "tags": [
     "hide"
    ]
   },
   "source": [
    "\n",
    "#### 1. Of all four relationships that you plotted above, which was the strongest?\n",
    "\n",
    "\n",
    "## Is Mean or Max Height A Closer Comparison?\n",
    "\n",
    "#### 2. List 2 reasons why lidar max height values may be larger than (over estimate) human measurements.\n",
    "\n",
    "\n",
    "#### 3. List 2 reasons why lidar mean height values may be smaller than (underestimate) human measurements.\n",
    "\n",
    "\n",
    "\n",
    "#### 4. List 2 systematic sources of error could impact differences between lidar and measured tree height values. \n",
    "\n",
    "Your answer here\n",
    "\n",
    "#### 5. List 2 random sources of error that could impact differences between lidar and measured tree height values. \n",
    "\n",
    "Your answer here"
   ]
  },
  {
   "cell_type": "code",
   "execution_count": null,
   "metadata": {
    "tags": [
     "hide"
    ]
   },
   "outputs": [],
   "source": [
    "# PLOT 1: Overlay the field site point locations on top of the CHM for the SJER field site\n",
    "\n",
    "\n",
    "# sjer_insitu[[\"geometry\", \"plotid\", ]]\n",
    "# # join data\n",
    "# sjer_joined = sjer_insitu.merge(sjer_insitu_grp,\n",
    "#                                left_on='plotid',\n",
    "#                                right_on='plotid')\n",
    "\n",
    "# just get the plot numbers to avoid case issues with the id's\n",
    "# do we have to do this??\n",
    "#sjer_insitu['insitu_id'] = [pid[4:] for pid in sjer_insitu['plotid']]"
   ]
  },
  {
   "cell_type": "markdown",
   "metadata": {
    "tags": [
     "hide"
    ]
   },
   "source": [
    "#### Plots 5 & 6\n",
    "\n",
    "Overlay the field site point locations on top of the canopy height model for\n",
    "both the NEON SJER and the SOAP field sites.\n",
    "\n",
    "* Be sure to adjust the marker plot size based upon the average tree height using the insitu (human measured) data for each plot.\n",
    "* IMPORTANT: Your basemap should ONLY show plots that have an average tree height value for them. "
   ]
  },
  {
   "cell_type": "code",
   "execution_count": null,
   "metadata": {
    "tags": [
     "hide"
    ]
   },
   "outputs": [],
   "source": [
    "# #sjer_lidar['lidar_id'] = [pid[4:] for pid in sjer_lidar['Plot_ID']]\n",
    "# #sjer_joined['geometry'] = sjer_joined.centroid\n",
    "\n",
    "# # create plot and show chm\n",
    "# fig, ax = plt.subplots(figsize=(10, 10))\n",
    "# ax.imshow(sjer_chm,\n",
    "#           cmap='Greys',\n",
    "#           extent=sjer_plt)\n",
    "\n",
    "# # overlay field site locations\n",
    "# sjer_joined.centroid.plot(ax=ax,\n",
    "#                           marker='o',\n",
    "#                           markersize=sjer_joined['insitu_mean']*80, c='purple')\n",
    "\n",
    "# # add title\n",
    "# ax.set_title(\n",
    "#     \"Homework Plot 1: SJER Study Site Locations \\n Sized by Measured Max Tree Height\")\n",
    "# ax.set_axis_off()\n",
    "# plt.show()"
   ]
  },
  {
   "cell_type": "code",
   "execution_count": null,
   "metadata": {
    "tags": [
     "hide"
    ]
   },
   "outputs": [],
   "source": [
    "# # Plot 6 - Soaproot Saddle\n",
    "# fig, ax = plt.subplots(figsize=(10, 10))\n",
    "# ax.imshow(soap_chm, cmap='Greys', extent=[\n",
    "#           soap_bounds[i] for i in [0, 2, 1, 3]])\n",
    "\n",
    "# # overlay field site locations\n",
    "# soap_joined.plot(ax=ax, marker='o',\n",
    "#                  markersize=soap_joined['insitu_mean']*60, c='purple')\n",
    "\n",
    "# # set boundaries and title\n",
    "# ax.set_title(\n",
    "#     \"Homework Plot 2: SOAP Study Site Locations \\n Overlayed on a Lidar Canopy Height Model\")\n",
    "# ax.set_axis_off()v"
   ]
  },
  {
   "cell_type": "markdown",
   "metadata": {
    "tags": [
     "hide"
    ]
   },
   "source": [
    "<!--\n",
    "\n",
    "## Report Structure, Code Syntax & Knitr Output: 10%\n",
    "\n",
    "| Full Credit | No Credit  |\n",
    "|:----|----|\n",
    "| `.ipynb` file submitted | |\n",
    "| Code is written using \"clean\" code practices following the PEP-8 Python style guide |  |\n",
    "| All cells contain code that runs  |  |\n",
    "| All required `Python` packages are listed at the top of the document in a code chunk.  | |\n",
    "| Lines of code are broken up at commas to reduce the line width and make the code more readable  | |\n",
    "|==\n",
    "| Code chunk arguments are used to hide warnings and code and just show output |  |\n",
    "\n",
    "\n",
    "## Report Questions: 40%\n",
    "\n",
    "| Full Credit | No Credit  |\n",
    "|:----|----|\n",
    "| Student compared the scatter plots of average and max height and determined which relationship is \"better\" (more comparable 1:1 ) for both field sites |  |\n",
    "| Student discusses 2-3 potential sources of uncertainty that may have impacted these relationships |  |\n",
    "| Student discusses differences in the relationships observed between the two field sites (SJER vs SOAP) |  |\n",
    "| 1-2 readings from the homework are referenced in the report. (You can chose whether you'd like to use bookdown or create manual references)|  |\n",
    "| 3 sources of uncertainty associated with 1) the lidar derived tree heights and 2) *insitu* tree height measurements are correctly identified as discussed in class and the readings | |\n",
    "| Student identifies uncertainty sources listed above as systematic vs random | |\n",
    "\n",
    "\n",
    "## Plots are Worth 50% of the Assignment Grade\n",
    "\n",
    "### Plots 1 - 2 - Basemap - plot locations overlayed on top of the CHM for each field site.\n",
    "\n",
    "| Full Credit | No Credit  |\n",
    "|:----|----|\n",
    "| Plots have a title that describes plot contents. |  |\n",
    "| Plots have a 2-3 sentence caption that clearly describes plot contents. |  |\n",
    "\n",
    "### Plots 3 - 6 - Scatterplots Insitu vs Lidar for San Joachin (SJER) & Soaproot (SOAP) Saddle sites\n",
    "\n",
    "| Full Credit | No Credit  |\n",
    "|:----|----|\n",
    "| Scatter plot of maximum measured vs lidar tree height is included |  |\n",
    "| Scatter plot of average measured vs lidar tree height is included |  |\n",
    "| Plots have a title that describes plot contents. |  |\n",
    "| X & Y axes are labeled appropriately. |  |\n",
    "| Plots have a 2-3 sentence caption that clearly describes plot contents. |  |\n",
    "\n",
    "\n",
    "\n",
    "**90% of the regression plot grade**\n",
    "\n",
    "| Full Credit | No Credit  |\n",
    "|:----|----|\n",
    "| 1-2 Paragraphs are included that describe what these plots show in terms of the relationship between lidar and measured tree height and which metrics may or may not be better (average vs maximum height) |  |\n",
    "-->"
   ]
  },
  {
   "cell_type": "markdown",
   "metadata": {
    "tags": [
     "hide"
    ]
   },
   "source": [
    "<!--\n",
    "### 2. Complete the Assignment Below (5 points)\n",
    "\n",
    "<div class=\"notice--warning\" markdown=\"1\">\n",
    "\n",
    "## <i class=\"fa fa-pencil-square-o\" aria-hidden=\"true\"></i> Homework Submission\n",
    "\n",
    "### Produce a Report\n",
    "\n",
    "Create a new `Jupyter notebook`. Name it: **lastName-firstInitial-week5.ipynb**\n",
    "Within your `notebook` document, write the code needed to create the plots listed below. \n",
    "Be sure to name your files as instructed! Submit a ipynb file and a .html file with your output to Canvas.\n",
    "\n",
    "\n",
    "<!--\n",
    "\n",
    "#### Answer Questions Below in Your Report -- turning this into multiple choice questions...\n",
    "\n",
    "2. **Write *at least* 2 paragraphs:** In this class you learned the relationship between lidar derived canopy height models and measured tree height. Use that plots that you create below, the readings and the course lessons to answer the following questions\n",
    "  * Which lidar tree height metric, (max vs. mean height) more closely relates to human measured tree height?\n",
    "  * What sources of uncertainty (as discussed in class and the readings) may impact relationship between lidar vs human measured tree height?\n",
    "  * Do you notice any differences in the relationship between the lidar vs human measured tree height between SJER vs SOAP field sites? Explain.\n",
    "3. **Write *at least* 1 paragraph:** List a minimum of 3 sources of uncertainty associated with the lidar derived tree heights and 3 sources of uncertainty associated with *in situ* measurements of tree height. For each source of uncertainty, specify whether it is a random or systematic error. Be sure to reference the plots and readings as necessary.\n",
    "\n",
    "\n",
    "#### Include the Plots Below\n",
    "Be sure to describe what each plot shows in your final report.\n",
    "Your plots do not need to be in the order below. I just listed them this way\n",
    "to make it easier to keep track of and grade!\n",
    "\n",
    "-->\n",
    "\n",
    "\n",
    "\n",
    "#### Questions To Answer\n",
    "\n",
    "Answer the following questions:\n",
    "\n",
    "1. When comparing lidar vs measured tree height, which metric, mean or max height has a strong relationship? Why do you think one height measurement might be closer to measured then the other?\n",
    "2. For SJER, provide the plot numbers, of the two plots that have the largest difference between lidar vs measured maximum tree height.\n",
    "3. For SOAP, provide the plot numbers, of the two plots that have the largest difference between lidar vs measured maximum tree height.\n",
    "\n",
    "\n",
    "### IMPORTANT: For All Plots\n",
    "* Label x and y axes appropriately - include units\n",
    "* Add a title to your plot that describes what the plot shows\n",
    "* Add a brief, 1-3 sentence caption below each plot that describes what it shows.\n"
   ]
  }
 ],
 "metadata": {
  "celltoolbar": "Tags",
  "kernelspec": {
   "display_name": "Python 3",
   "language": "python",
   "name": "python3"
  },
  "language_info": {
   "codemirror_mode": {
    "name": "ipython",
    "version": 3
   },
   "file_extension": ".py",
   "mimetype": "text/x-python",
   "name": "python",
   "nbconvert_exporter": "python",
   "pygments_lexer": "ipython3",
   "version": "3.8.6"
  },
  "toc": {
   "base_numbering": 1,
   "nav_menu": {},
   "number_sections": true,
   "sideBar": true,
   "skip_h1_title": false,
   "title_cell": "Table of Contents",
   "title_sidebar": "Contents",
   "toc_cell": false,
   "toc_position": {},
   "toc_section_display": true,
   "toc_window_display": false
  }
 },
 "nbformat": 4,
 "nbformat_minor": 2
}
